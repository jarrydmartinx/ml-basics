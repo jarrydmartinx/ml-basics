{
  "nbformat": 4,
  "nbformat_minor": 0,
  "metadata": {
    "colab": {
      "name": "sampling.ipynb",
      "provenance": [],
      "collapsed_sections": [
        "pH7ZX-kiq8vC"
      ],
      "include_colab_link": true
    },
    "kernelspec": {
      "name": "python3",
      "display_name": "Python 3"
    }
  },
  "cells": [
    {
      "cell_type": "markdown",
      "metadata": {
        "id": "view-in-github",
        "colab_type": "text"
      },
      "source": [
        "<a href=\"https://colab.research.google.com/github/jarrydmartinx/ml-basics/blob/master/sampling.ipynb\" target=\"_parent\"><img src=\"https://colab.research.google.com/assets/colab-badge.svg\" alt=\"Open In Colab\"/></a>"
      ]
    },
    {
      "cell_type": "markdown",
      "metadata": {
        "id": "Rva5KbZ5mTYA",
        "colab_type": "text"
      },
      "source": [
        "# Sampling"
      ]
    },
    {
      "cell_type": "code",
      "metadata": {
        "id": "82fJQNFTzcgN",
        "colab_type": "code",
        "colab": {}
      },
      "source": [
        "! pip install -q plotnine"
      ],
      "execution_count": 0,
      "outputs": []
    },
    {
      "cell_type": "code",
      "metadata": {
        "id": "xG1k6CpJzT7p",
        "colab_type": "code",
        "colab": {}
      },
      "source": [
        "import numpy as np\n",
        "import pandas as pd\n",
        "import plotnine as gg\n",
        "import pdb\n",
        "from scipy import stats\n",
        "\n",
        "from typing import Callable, Tuple, List"
      ],
      "execution_count": 0,
      "outputs": []
    },
    {
      "cell_type": "markdown",
      "metadata": {
        "id": "IVWqBjSby8S8",
        "colab_type": "text"
      },
      "source": [
        "## Ancestral Sampling from a Graphical Model\n",
        "@TODO: Revise Ancestral Sampling"
      ]
    },
    {
      "cell_type": "markdown",
      "metadata": {
        "id": "UaHyzdDrjKKp",
        "colab_type": "text"
      },
      "source": [
        "## Sampling from Invertible Closed Form Distributions: Inverse CDF transform\n"
      ]
    },
    {
      "cell_type": "markdown",
      "metadata": {
        "id": "mzulTmi_QP87",
        "colab_type": "text"
      },
      "source": [
        "* Let $F$ be a continuous cumulative distribution function, and assume its inverse function $F^{-1}$ exists (using the infimum because CDFs are weakly monotonic and right-continuous):\n",
        "$$ F^{-1}(u) = \\inf \\{ x \\mid F(x) \\geq u\\}$$\n",
        "* Suppose $Z~U(0, 1)$ is uniformly distributed in the unit interval.\n",
        "* Claim: $F^{-1}(Z)$ has $F$ as its CDF. Proof:\n",
        "\\begin{align}\n",
        "&\\quad \\mathbb{P}(F^{-1}(U) \\leq x) \\\\\n",
        "&= \\mathbb{P}(U \\leq F(x))\\\\\n",
        "&= F(x) \\qquad \\text{because }  \\mathbb{P}(U \\leq y) = y \\text{  when $U$ is uniform on $(0, 1)$}\n",
        "\\end{align}"
      ]
    },
    {
      "cell_type": "code",
      "metadata": {
        "id": "cIKUR8auINho",
        "colab_type": "code",
        "colab": {}
      },
      "source": [
        "def sample(inverse_cdf: Callable, size: int, params: List):\n",
        "  \"\"\"Takes an inverse cdf and paramters and generates size samples\n",
        "  \"\"\"\n",
        "  u = np.random.rand(size)\n",
        "  return inverse_cdf(u, params)"
      ],
      "execution_count": 0,
      "outputs": []
    },
    {
      "cell_type": "code",
      "metadata": {
        "id": "B6QdSS6JBRJH",
        "colab_type": "code",
        "outputId": "bef33e69-a105-42fc-bd8b-2dcf7fb98ba8",
        "cellView": "code",
        "colab": {
          "base_uri": "https://localhost:8080/",
          "height": 50
        }
      },
      "source": [
        "#@title Continuous Random Variables\n",
        "\n",
        "def expon_inv_cdf(z: float, params: List[float]) -> float:\n",
        "  if params is not None:\n",
        "    lamb = params\n",
        "  else:\n",
        "    lamb = 1.\n",
        "  \n",
        "  return -(1 / lamb) * np.log(z / lamb)\n",
        "\n",
        "samples = sample(expon_inv_cdf,params=(1),  size=(1000),)\n",
        "print(samples[:5])\n",
        "np.mean(samples), np.var(samples)"
      ],
      "execution_count": 0,
      "outputs": [
        {
          "output_type": "stream",
          "text": [
            "[0.04058843 0.47757381 1.60602579 1.58261271 3.99624607]\n"
          ],
          "name": "stdout"
        },
        {
          "output_type": "execute_result",
          "data": {
            "text/plain": [
              "(0.9669871687957959, 0.8888593414110949)"
            ]
          },
          "metadata": {
            "tags": []
          },
          "execution_count": 4
        }
      ]
    },
    {
      "cell_type": "code",
      "metadata": {
        "id": "a04-DeIagwxn",
        "colab_type": "code",
        "colab": {}
      },
      "source": [
        "from typing import Tuple"
      ],
      "execution_count": 0,
      "outputs": []
    },
    {
      "cell_type": "code",
      "metadata": {
        "id": "3q5NBTICrNF_",
        "colab_type": "code",
        "cellView": "code",
        "outputId": "3e30de36-4292-4e70-d7bc-c7f9008d88e0",
        "colab": {
          "base_uri": "https://localhost:8080/",
          "height": 34
        }
      },
      "source": [
        "#@title Check it with scipy\n",
        "\n",
        "from scipy import stats\n",
        "\n",
        "def sample_expon(lamb: int = 1, size: Tuple = (1)):\n",
        "  u = np.random.rand(size)\n",
        "  return stats.expon.ppf(u, scale=1/lamb)\n",
        "\n",
        "samples = sample_expon(size=(int(1000)))\n",
        "np.mean(samples), np.var(samples)"
      ],
      "execution_count": 0,
      "outputs": [
        {
          "output_type": "execute_result",
          "data": {
            "text/plain": [
              "(1.0424511640805938, 1.0602277433071234)"
            ]
          },
          "metadata": {
            "tags": []
          },
          "execution_count": 5
        }
      ]
    },
    {
      "cell_type": "code",
      "metadata": {
        "id": "aLxHXSbm1DiW",
        "colab_type": "code",
        "cellView": "code",
        "outputId": "b08162a4-217c-4679-9480-2ef08ca9ce92",
        "colab": {
          "base_uri": "https://localhost:8080/",
          "height": 225
        }
      },
      "source": [
        "#@title Discrete Random Variables\n",
        "\n",
        "def categorical_pmf(num_categories: int):\n",
        "  vals = np.random.rand(num_categories)\n",
        "  return vals / np.sum(vals)\n",
        "\n",
        "def categorical_inv_cdf(z: np.ndarray, params: List):\n",
        " \n",
        "  if len(params) == 1:\n",
        "    num_categories = params[0]\n",
        "    probs = categorical_pmf(num_categories)  # [C]\n",
        "  else:\n",
        "    probs = params\n",
        "    \n",
        "  if z.ndim != 1:\n",
        "    raise ValueError('z must be flat.')\n",
        "  num_samples = z.shape[0]  # \"B\"\n",
        "  \n",
        "  cdf = np.cumsum(probs)  # [C]\n",
        "  cdf = np.expand_dims(cdf, axis=0)  # [1, C]\n",
        "  z = np.expand_dims(z, axis=-1)  # [B, 1]\n",
        "  bools = cdf > z  # [B, C]\n",
        "  print(bools)\n",
        "  \n",
        "  return np.argmax(bools, axis=1)  # [B]\n",
        "\n",
        "\n",
        "\n",
        "samples = sample(categorical_inv_cdf, params=[4], size=10)\n",
        "print(samples)\n",
        "mode = np.bincount(samples).argmax()\n",
        "print(mode)"
      ],
      "execution_count": 0,
      "outputs": [
        {
          "output_type": "stream",
          "text": [
            "[[False False False  True]\n",
            " [False False False  True]\n",
            " [ True  True  True  True]\n",
            " [False False  True  True]\n",
            " [ True  True  True  True]\n",
            " [False  True  True  True]\n",
            " [ True  True  True  True]\n",
            " [ True  True  True  True]\n",
            " [False  True  True  True]\n",
            " [False False  True  True]]\n",
            "[3 3 0 2 0 1 0 0 1 2]\n",
            "0\n"
          ],
          "name": "stdout"
        }
      ]
    },
    {
      "cell_type": "markdown",
      "metadata": {
        "id": "O6jIMW9NIz_7",
        "colab_type": "text"
      },
      "source": [
        "## Box Mueller"
      ]
    },
    {
      "cell_type": "markdown",
      "metadata": {
        "id": "_MF9DkU0IxlY",
        "colab_type": "text"
      },
      "source": [
        "### Sampling from a $\\mathcal{N}(0, 1)$ Gaussian\n",
        "* Generate pairs of uniformly distrubted $z_1, z_2 \\in (-1, 1)$, which we can do by transforming a variable distributed uniformly over $(0, 1)$ using $z = 2z -1$\n",
        "* We keep the pair if it lies within the the unit circle: i.e. if $z_1^2 + z_2^2 \\leq 1$\n",
        "* We are left with pairs $z_1, z_2$ uniformly distributed within the unit circle. The probability of each pair is 1/(area of unit circle) =  $1/\\pi$\n",
        "* We calculate the magnitude of the resultant vector $r = |(z_1, z_2)| = z_1^2 + z_2^2$ \n",
        "* We compute the following transformation for each element of the pair:\n",
        "$$ y_i = z_i\\bigg(\\frac{-2 \\ln r^2}{r^2}\\bigg)^{1/2} $$\n",
        "* Each $y_i$ will be $\\sim \\mathcal{N}(0, 1)$"
      ]
    },
    {
      "cell_type": "code",
      "metadata": {
        "id": "Cr2z-T1JQm4K",
        "colab_type": "code",
        "colab": {}
      },
      "source": [
        "def sample_normal():\n",
        "  pass\n",
        "\n",
        "#TODO(jarryd@google.com): Implement the Box Mueller algorithm described above\n",
        "\n",
        "#TODO(jarryd@google.com): Work out why this is an example of the inverse CDF trick\n",
        "# or why it's a related transform method. Surely the expression for y_i is basically \n",
        "# the inverse pdf "
      ],
      "execution_count": 0,
      "outputs": []
    },
    {
      "cell_type": "markdown",
      "metadata": {
        "id": "kXb36da0QV9x",
        "colab_type": "text"
      },
      "source": [
        "### Sampling from a Gaussian with arbitrary mean and variance"
      ]
    },
    {
      "cell_type": "code",
      "metadata": {
        "id": "9TZawg_SQjE8",
        "colab_type": "code",
        "colab": {}
      },
      "source": [
        "def reparametrise(mean: float, variance: float) -> float:\n",
        "  pass\n",
        "\n",
        "#TODO(jarryd@google.com): This function should take a normally distributed sample\n",
        "# and output a sample from a Gaussian with the given mean and variance"
      ],
      "execution_count": 0,
      "outputs": []
    },
    {
      "cell_type": "markdown",
      "metadata": {
        "id": "xCk11sg-zBMr",
        "colab_type": "text"
      },
      "source": [
        "## Rejection Sampling"
      ]
    },
    {
      "cell_type": "markdown",
      "metadata": {
        "id": "g99yB6BZH2sf",
        "colab_type": "text"
      },
      "source": [
        "### Constraints and Assumptions\n",
        "* Suppose we wish to sample from a distribution $p(z)$ that doesn't have a closed form inverse cdf.\n",
        "* Assume that sampling from $p(z)$ directly is difficult\n",
        "* Assume we can easily evaluate $p(z)$, for any $z$, up to some normalising constant $Z_p$:\n",
        "$$ p(z) = \\frac{1}{Z_p} \\tilde{p}(z)$$\n",
        "That is, we can easily evaluate $\\tilde{p}(z)$\n",
        "* Assume we have a *proposal distribution* $q(z)$ that we can easily sample from.\n",
        "* We introduce a constant $k$ such that $kq(z) \\geq \\tilde{p}(z)$ for all values of $z$\n",
        "\n",
        "### Sampling Procedure\n",
        "* Sample a number $z_0$ from the proposal distribution $q(z)$\n",
        "* We generate a number $u_0$ from the uniform distribution over $[0, kq(z_0)]$\n",
        "* If $u_0 \\leq \\tilde{p}(z_0)$, accept the sample, otherwise reject.\n",
        "  * The rejected $(z_0, u_0)$ pairs are uniformly distributed in the region between $\\tilde{p}(z_0)$ and $q(z)$\n",
        "  * The accepted $(z_0, u_0)$ pairs are uniformly distributed in the region under $\\tilde{p}(z_0)$\n",
        "  * Hence, the accepted $z_0$ are distributed according to "
      ]
    },
    {
      "cell_type": "code",
      "metadata": {
        "id": "ZrZyUoeCzDpZ",
        "colab_type": "code",
        "colab": {}
      },
      "source": [
        "def rejection_sample(desired_pdf=stats.beta.pdf, k=6, size=100000):\n",
        "  # Uses a Gaussian distribution as the proposal distribution q\n",
        "\n",
        "  x = np.random.normal(size=size) #[size] \n",
        "  p = stats.beta.pdf(x, 3, 4) #[size] \n",
        "  scaled_q = k * stats.norm.pdf(x) #[size] \n",
        "  z = np.random.uniform(size=size) #[size] uniform samples in (0,1)\n",
        "  accept = (z * scaled_q) < p #[size], a boolean mask\n",
        "  samples = x[accept]\n",
        "\n",
        "  accept_rate = len(samples) / size\n",
        "  print('Accept rate: {}'.format(accept_rate))\n",
        "  return samples"
      ],
      "execution_count": 0,
      "outputs": []
    },
    {
      "cell_type": "code",
      "metadata": {
        "id": "UsVzNdqtwwFx",
        "colab_type": "code",
        "colab": {}
      },
      "source": [
        "xs = np.linspace(-3, 3, 500)\n",
        "qs = stats.norm.pdf(xs)\n",
        "ps = stats.beta.pdf(xs, 3, 4)\n",
        "\n",
        "\n",
        "p_df = pd.DataFrame({'x': xs, 'value': ps, 'distribution': 'p'})\n",
        "q_df = pd.DataFrame({'x': xs, 'value': 6 * qs, 'distribution': 'q'})\n",
        "df = pd.concat([p_df, q_df])"
      ],
      "execution_count": 0,
      "outputs": []
    },
    {
      "cell_type": "code",
      "metadata": {
        "id": "iaNCPx48xCmZ",
        "colab_type": "code",
        "outputId": "3e36146b-aac3-4fa1-eb31-449d06056ab2",
        "colab": {
          "base_uri": "https://localhost:8080/",
          "height": 489
        }
      },
      "source": [
        "p = (gg.ggplot(df)\n",
        "     + gg.aes(x='x', y='value', color='distribution')\n",
        "     + gg.geom_line()\n",
        "     + gg.xlim(-3, 3)\n",
        "    )\n",
        "p"
      ],
      "execution_count": 0,
      "outputs": [
        {
          "output_type": "display_data",
          "data": {
            "image/png": "[encoded data removed]",
            "text/plain": [
              "<Figure size 640x480 with 1 Axes>"
            ]
          },
          "metadata": {
            "tags": []
          }
        },
        {
          "output_type": "execute_result",
          "data": {
            "text/plain": [
              "<ggplot: (-9223363256962948306)>"
            ]
          },
          "metadata": {
            "tags": []
          },
          "execution_count": 11
        }
      ]
    },
    {
      "cell_type": "markdown",
      "metadata": {
        "id": "_gQVKJjUzEFM",
        "colab_type": "text"
      },
      "source": [
        "## Importance Sampling And Expectations"
      ]
    },
    {
      "cell_type": "markdown",
      "metadata": {
        "id": "Kjs1MBWsy-wL",
        "colab_type": "text"
      },
      "source": [
        "### Notes on Sampling to estimate expectations of functions of RVs\n"
      ]
    },
    {
      "cell_type": "markdown",
      "metadata": {
        "id": "dKqq9WozmWPW",
        "colab_type": "text"
      },
      "source": [
        "* Most of the time, we want to evaluate distributions for the purposes of evaluating expectations\n",
        "* The fundamental problem sampling methods address is that of approximating the expectation below wrt the distribution $ p(\\mathbf{z})$\n",
        "\\begin{align}\n",
        "\\mathbb{E}[f(\\mathbf{z})]  &=\\int f(\\mathbf{z})p(\\mathbf{z}) d\\mathbf{z}\n",
        "\\end{align}\n",
        "\n",
        "* We obtain a set of samples $\\{\\mathbf{z}^{(l)}\\}$, $l \\in \\{1\\ldots L\\}$\n",
        "* The expectation may approximated by a finite sum:\n",
        "\\begin{align}\n",
        "\\mathbb{E}[f(\\mathbf{z})]  &\\approx \\hat{f} = \\frac{1}{L}\\sum_{l = 1}^L f(\\mathbf{z}^{(l)})\n",
        "\\end{align}\n",
        "* **Remember to divide by the number of samples!!!**\n",
        "* The variance of the estimator  is\n",
        "$$ var[\\hat{f}] = \\frac{1}{L}\\mathbb{E}\\big[(f - \\mathbb{E}[f]) ^2\\big]$$\n",
        "which is the variance of the function f(z) under the distribution p(z). Hence the accuracy of the estimator does not depend on the dimensionality of $z$! So high accuracy may be achievable with a relatively small number of independent samples of z. However, the samples might not be independent, so the effective sample size might be much smaller.\n",
        "\n"
      ]
    },
    {
      "cell_type": "markdown",
      "metadata": {
        "id": "HdwFq0ICb96v",
        "colab_type": "text"
      },
      "source": [
        "### Importance Sampling Derivation"
      ]
    },
    {
      "cell_type": "markdown",
      "metadata": {
        "id": "cszGjdTxWQOX",
        "colab_type": "text"
      },
      "source": [
        "Suppose we need to evaluate an expectation wrt a distribution but we dont need to sample from that distribution directly\n",
        "* Assume it's hard to sample from p(z) directly but that we can easily evaluate it for any z.\n",
        "* We could just evaluate p(z) over a uniform grid, and approximate the expectation that way, but the number of terms grows exponentially with the dimensionality of $z$\n",
        "* Also, if f(z) is small in regions where p(z) is large, and vice versa, then the expectation may be dominated by regions of small probability, implying that relatively large sample sizes will be required to achieve sufficient accuracy.\n",
        "* We'd really like to choose to sample from regions where the product p(z)f(z) is large, as these contribute most to the sum.\n",
        "* As with rejection sampling, we're going to draw samples from a *proposal distribution* q(z), and the efficiency of the procedure is going to depend on how well our proposal distribution fits our desired distribution. Makes sense. \n",
        "* The difference is we never have to be able to draw samples from the desired distribution.\n",
        "* As before, we can even do it if we can only evaluate the desired distribution up to some normalisation, but let's not worry about that for now.\n"
      ]
    },
    {
      "cell_type": "markdown",
      "metadata": {
        "id": "6vhn6GDXauAg",
        "colab_type": "text"
      },
      "source": [
        "\n",
        "\\begin{align}\n",
        "\\mathbb{E}[f] \n",
        "&= \\int f(z) p(z) dz \\\\\n",
        "&= \\int f(z) \\frac{p(z)}{q(z)} q(z) dz \\\\\n",
        "&\\simeq \\frac{1}{L} \\sum_{l=1}^{L} \\frac{p(z^{(l)})}{q(z^{(l)})}f(z^{(l)}) \\qquad {z^{(l)}} \\sim q(z)\n",
        "\\end{align}\n",
        "* The quantities $r_l = \\frac{p(z^{(l)})}{q(z^{(l)})}f(z^{(l)})$ are called the importance weights.\n",
        "* These correct for the bias introduced by sampling from the wrong distribution.\n",
        "* Note from the form of the expression that q(z) should not be small or zero in regions where p(z) is large.\n",
        "* If, as is often the case, p(z)f (z) is strongly varying and has a sig-\n",
        "nificant proportion of its mass concentrated over relatively small regions of z space,\n",
        "then the set of importance weights {r l } may be dominated by a few weights hav-\n",
        "ing large values, with the remaining weights being relatively insignificant. Thus the\n",
        "effective sample size can be much smaller than the apparent sample size L.\n",
        "* A major drawback of importance sampling as a method is its potential to produce results that are arbitrarily bad with no diagnostic indication (unlike rejection sampling, which gives you a clear indication of its inefficiency)."
      ]
    },
    {
      "cell_type": "markdown",
      "metadata": {
        "id": "9G6f8dD35A_-",
        "colab_type": "text"
      },
      "source": [
        "### Importance Sampling Code"
      ]
    },
    {
      "cell_type": "code",
      "metadata": {
        "id": "tdg-eLM9zG0C",
        "colab_type": "code",
        "outputId": "61f14bd2-b78f-4111-8117-8841d043182b",
        "colab": {
          "base_uri": "https://localhost:8080/",
          "height": 52
        }
      },
      "source": [
        "def imp_sampled_expect(num_samples: int,\n",
        "                       f: Callable[[np.ndarray], np.ndarray] = lambda z: z,\n",
        "                       p: Callable[[np.ndarray], np.ndarray] = stats.beta.pdf,\n",
        "                       p_params: Tuple[float] = (3., 4.),\n",
        "                       gauss_params: Tuple[float] = (.3, .3)) -> float:\n",
        "  \n",
        "  \"\"\" Computes expectation of f wrt the distribution p by importance sampling\n",
        "  \n",
        "  Assumes a Gaussian proposal distribution.\n",
        "  \"\"\"\n",
        "  \n",
        "  # Draw num_samples samples z from each proposal distribution q(z)\n",
        "  z = np.random.normal(*gauss_params, size=num_samples) #[n]\n",
        "  \n",
        "  # Evaluate q(z) for all samples z\n",
        "  q_z = stats.norm.pdf(z, *gauss_params) #[n]     \n",
        "  \n",
        "  # Evaluate p(z) for all samples z \n",
        "  p_z = p(z, *p_params) #[n]               \n",
        "                        \n",
        "  # Compute the importance weights r(z) for each sample z                      \n",
        "  r_z = p_z / q_z #[n] \n",
        "  \n",
        "  return (1 / num_samples) * np.sum(r_z * f(z)) # []\n",
        "\n",
        "num_samples = 100000\n",
        "expect_good = imp_sampled_expect(num_samples, gauss_params=(.4, .19))\n",
        "expect_bad = imp_sampled_expect(num_samples, gauss_params=(0, 1))\n",
        "\n",
        "err_good_fit = stats.beta.mean(*beta_params) - expect_good\n",
        "err_bad_fit = stats.beta.mean(*beta_params) - expect_bad\n",
        "\n",
        "print('Good Proposal Distribution: E[f]: {}, error: {}'.format(expect_good, \n",
        "                                                               err_good_fit))\n",
        "print('Bad Proposal Distribution: E[f]: {}, error: {}'.format(expect_bad, \n",
        "                                                               err_bad_fit))"
      ],
      "execution_count": 0,
      "outputs": [
        {
          "output_type": "stream",
          "text": [
            "Good Proposal Distribution: E[f]: 0.4299035397584606, error: -0.0013321111870320257\n",
            "Bad Proposal Distribution: E[f]: 0.4274718120359146, error: 0.0010996165355139365\n"
          ],
          "name": "stdout"
        }
      ]
    },
    {
      "cell_type": "code",
      "metadata": {
        "id": "tbUqHmG7ara5",
        "colab_type": "code",
        "outputId": "1abc1509-9674-4025-c583-5dd30cefdc29",
        "colab": {
          "base_uri": "https://localhost:8080/",
          "height": 468
        }
      },
      "source": [
        "xs = np.linspace(-3, 3, num=200)\n",
        "betas = stats.beta.pdf(xs, 3, 4)\n",
        "normals_good = stats.norm.pdf(xs, loc=.4, scale=.19)\n",
        "normals_bad = stats.norm.pdf(xs, loc=0, scale=.3)\n",
        "\n",
        "beta_df = pd.DataFrame({'x': xs, 'prob': betas, 'distribution': 'beta'})\n",
        "normal_good_df = pd.DataFrame({'x': xs, \n",
        "                        'prob': normals_good, \n",
        "                        'distribution': 'gaussian_goodfit'})\n",
        "normal_bad_df = pd.DataFrame({'x': xs,\n",
        "                            'prob': normals_bad,\n",
        "                            'distribution': 'gaussian_badfit'})\n",
        "\n",
        "df = pd.concat([beta_df, normal_good_df, normal_bad_df])\n",
        "plot = (gg.ggplot(df)\n",
        "        + gg.aes(x='x', y='prob', color='distribution')\n",
        "        + gg.geom_line()\n",
        "        + gg.xlim(-3, 3)\n",
        "       )\n",
        "\n",
        "plot"
      ],
      "execution_count": 0,
      "outputs": [
        {
          "output_type": "display_data",
          "data": {
            "image/png": "[encoded data removed]",
            "text/plain": [
              "<Figure size 640x480 with 1 Axes>"
            ]
          },
          "metadata": {
            "tags": []
          }
        },
        {
          "output_type": "execute_result",
          "data": {
            "text/plain": [
              "<ggplot: (8779888227462)>"
            ]
          },
          "metadata": {
            "tags": []
          },
          "execution_count": 28
        }
      ]
    },
    {
      "cell_type": "markdown",
      "metadata": {
        "id": "V1Ah-JkS8F_d",
        "colab_type": "text"
      },
      "source": [
        "## Markov Chain Monte Carlo"
      ]
    },
    {
      "cell_type": "markdown",
      "metadata": {
        "id": "Q1ed3HuIBQdp",
        "colab_type": "text"
      },
      "source": [
        "### Why MCMC?\n",
        "* Because Importance Sampling and Rejection Sampling **suck** in high dimensional spaces.\n",
        "* Too many rejections, importance weights are too small. Boy do I get that.\n",
        "* In MCMC we again have a desired distribution that we can evaluate, perhaps up to some normalisation.\n",
        "* We again sample from a proposal distribution that we can sample from directly, but **don't do so i.i.d**. Instead we maintain a record of the **current state** $z^{(\\tau)}$, and the proposal distribution $q(z\\mid z^{(\\tau)})$ depends on the current state, and so the sequence of samples $z^{(1)}$, $z^{(2)}$... forms a Markov chain.\n",
        "\n",
        "### Markov Chain Recap:\n",
        "* A Markov chain is a sequence of random variables\n",
        "* A first-order MC is one where a one-step conditional independence property holds: the Markov property\n",
        "  * When represented as a graph this looks like a chain, so yeah.\n",
        "* A MC is called (time-)homogeneous if the transition probabilities are the same for all $n$\n",
        "\n",
        "### Invariance of distributions wrt MCs, Detailed Balance\n",
        "* A distribution is said to be invariant, or stationary with respect to a MC if each step in the chain leaves that distribution invariant. For a homogeneous MC with transition probabilities $T(z', z)$ the distribution $p^*(z)$ is invariant if:\n",
        "$$ p^*(z) = \\sum_{z'} T (z, z') p^*(z') $$\n",
        "* A MC can have many invariant distributions. (e.g. if $T$ is the identity then any distribution witll be an invariant distrubtion wrt to the MC defined by $T$).\n",
        "* **Detailed balance** is a sufficient (but not necessary) condition for invariance:\n",
        "$$ p^*(z) T (z, z') = p^*(z') T (z', z) $$\n",
        "an MC satisfying detailed balance is also called **reversible**\n",
        "\n",
        "### Using Markov Chains to sample from a distribution $p^*(z)$\n",
        "Our goal is to use Markov chains to sample from a given distribution. We'll require that:\n",
        "  1. Desired distribution == stationary distribution: i.e. the desired distribution $p^*(z)$ is invariant wrt the MC\n",
        "  2. Ergodicity: The Markov chain $p(z^{(m)})$ must converge to the required invariant distribution $p*(z)$, *irrespective of the choice of initial distribution* $p(z^{(0)}).\n",
        "    * The invariant distribution is then called the equilibrium distribution.\n",
        "    * Clearly an ergodic Markov chain can only have one equilibrium distribution.\n",
        "  \n"
      ]
    },
    {
      "cell_type": "markdown",
      "metadata": {
        "id": "7T8cMsQUOF68",
        "colab_type": "text"
      },
      "source": [
        "## The Metropolis algorithm\n",
        "* We assume that the proposal distribution is symmetric, such that $q(z \\mid z') = q(z' \\mid z)$ for all $z', z$.\n",
        "* Like in rejection sampling, a candidate sample is **accepted** with probability:\n",
        "$$ A(z^*, z^{(\\tau)}) = \\min\\bigg(1,\\ \\frac{p(z^*)}{p(z^{(\\tau)})}\\bigg)$$\n",
        "by choosing a random number $u\\sim U(0,1)$ and accepting if $A(z^*, z^{(\\tau)}) > u$.\n",
        "  *  **Note that if the step from $z^{(\\tau)}$ to $z^*$ increases the value of p(z), then the candidate sample is certain to be kept**\n",
        "  * Basically, you walk around by sampling your next step from the proposal distribution $q(z\\mid z^{(\\tau)})$,  and if you sample a point having higher probability according to your **desired distribution** $p(z)$, you accept that step, and keep going. Sometimes, even when the probability has dropped a bit, you still accept the step, with some probability. You're just trying to not drop too far on the p(z) landscape. The method is working well if you're doing better than random walking.\n",
        "* If you reject the candidate sample, you '**reaccept**' the prior sample as the 'next' sample, and keep going. This leads to multiple copies of samples. \n",
        "  * It's like taking a step on a landscape with a blindfold on, if you step down too far, it makes sense to step back to where you were a moment ago, and then keep going. You pretend that you just turned on the spot for one timestep and ended up exactly where you were.\n",
        "* As long as $p(z\\mid z')$ is positive for all z, z' (sufficient but not necessary), **the distribution of $z^(\\tau)$ tends to $p(z)$ as $\\tau \\to \\infty$**.\n",
        "  * Note however that the sequence $z^{(1)}, z^{(2)}\\ldots$ is not a sequence of independent samples from $p(z)$, because successive samples are **highly correlated**.\n",
        "  * Instead, we discard the sequence and start again for each new sample, only retaining say the $m^{\\text{th}}$ (the last) sample from each sequence. For sufficiently large $m$, the retained samples $z^{m}$ will practically be independent, because of ergodicity."
      ]
    },
    {
      "cell_type": "markdown",
      "metadata": {
        "id": "cQLJRcoSUGmP",
        "colab_type": "text"
      },
      "source": [
        "## The Metropolis-Hastings Algorithm"
      ]
    },
    {
      "cell_type": "markdown",
      "metadata": {
        "id": "04sDtniH8IVn",
        "colab_type": "text"
      },
      "source": [
        "* A generalisation of the basic Metropolis algorithm to the case where the proposal distribution is no longer a symmetric function of its arguments.\n",
        "* At step $\\tau$ we draw a sample $z^*$ from the proposal distribution $q_k(z\\mid z^{(\\tau)}$ and then accept it with probability:\n",
        "$$ A_k(z^*, z^{(\\tau)}) = \\min \\bigg(1,\\ \\frac{p(z^*)q_k(z^{(\\tau)} \\mid z^*)}{p(z)q_k(z^* \\mid z^{(\\tau)})}\\bigg)$$\n",
        "for a symmetric distribution the MH criterion reduces to the standard M criterion.\n",
        "  * Here $k$ labels each of the set of possible transitions being considered.\n",
        "  * Don't really get this but roughly it's just adjusting for the non-symmetry. Does backtracking nature of the alg have something to do with this?\n",
        "  \n",
        "@TODO(jarryd): Go through proof that p(z) is an invariant distribution of the Markov chain defined by the Metropolis-Hastings algorithm by showing that detailed balance is satisfied."
      ]
    },
    {
      "cell_type": "markdown",
      "metadata": {
        "id": "X1A99F1ka8HS",
        "colab_type": "text"
      },
      "source": [
        "## Gibbs Sampling\n",
        "A special case of the Metropolis Hastings algorithm. We first choose a distribution $p(z)$ which we wish to sample from. Then we choose an initial state, and then progressively sample new values for the individual elements of $\\mathbf{z}$\n",
        "  1. Choose an initial state $z$ for the Markov chain. i.e. Initialise $z_i: i = 1, ... , M$\n",
        "  2. For $\\tau = 1, ..., T$\n",
        "    * Sample $z_1^{(\\tau + 1)} \\sim p(z_1 \\mid z_2^{(\\tau)}, \\ldots \\ z_M^{(\\tau)}$)\n",
        "    * Sample $z_2^{(\\tau + 1)} \\sim p(z_2 \\mid z_1^{(\\tau + 1)},\\ z_3^{(\\tau)} \\ldots \\ z_M^{(\\tau)}$)\n",
        "    \n",
        "      $\\vdots$\n",
        "    * Sample $z_M^{(\\tau + 1)} \\sim p(z_1 \\mid z_1^{(\\tau + 1)},\\ z_2^{(\\tau+1)} \\ldots \\ z_{M-1}^{(\\tau + 1)}$)\n",
        "\n",
        "The joint distribution p(z) is invariant with respect to this markov chain because:\n",
        "1. The marginal $p(z_i \\mid z_{!i})$ is clearly invariant because the value of $z_{!i}$ is clearly unchanged. \n",
        "2. Each step also samples by definition from the correct conditional distribution $p(z_i\\mid z_{!i})$\n",
        "Because these conditional and marginal distributions together specify the joint distribution, we see that the joint is itself invariant wrt this markov chain\n",
        "\n",
        "TODO(jarryd): show that the acceptance probability, if we interpret this as a special case of the MH algorithm, is always 1 (samples are always accepted).\n"
      ]
    },
    {
      "cell_type": "markdown",
      "metadata": {
        "id": "pH7ZX-kiq8vC",
        "colab_type": "text"
      },
      "source": [
        "## Playground\n"
      ]
    },
    {
      "cell_type": "code",
      "metadata": {
        "id": "YjvIv4ZUq_kz",
        "colab_type": "code",
        "colab": {}
      },
      "source": [
        "#     categorical_samples = - np.ones(num_samples, dtype=np.int32)\n",
        "#   for idx in range(num_samples):\n",
        "#     for i in range(len(probs)):\n",
        "#       if z[idx] <= cdf[i]:\n",
        "#         categorical_samples[idx] = i\n",
        "#         break\n",
        "#   return categorical_samples"
      ],
      "execution_count": 0,
      "outputs": []
    },
    {
      "cell_type": "code",
      "metadata": {
        "id": "mKF2n7x-3l02",
        "colab_type": "code",
        "colab": {}
      },
      "source": [
        "# # Parameters for Gaussian proposal distribution q(z)\n",
        "# gauss_params_good = .4, .19\n",
        "# gauss_params_bad = 0, 1\n",
        "\n",
        "# # Parameters for desired Beta distribution p(z)\n",
        "# beta_params = 3, 4\n",
        "\n",
        "# # Draw size samples z from each proposal distribution q(z)\n",
        "# z_good = np.random.normal(size=100, *gauss_params_good) #[size]\n",
        "# z_bad = np.random.normal(size=100, *gauss_params_bad) #[size]\n",
        "\n",
        "# # Evaluate q(z) for all samples z drawn from q\n",
        "# q_z_good = stats.norm.pdf(z_good, *gauss_params_good)\n",
        "# q_z_bad = stats.norm.pdf(z_bad, *gauss_params_bad)\n",
        "\n",
        "# # Evaluate p(z) for all samples z drawn from q\n",
        "# p_z_good = stats.beta.pdf(z_good, 3, 4) #[size]\n",
        "# p_z_bad = stats.beta.pdf(z_bad, 3, 4) #[size]"
      ],
      "execution_count": 0,
      "outputs": []
    }
  ]
}