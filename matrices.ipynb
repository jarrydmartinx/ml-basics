{
  "nbformat": 4,
  "nbformat_minor": 0,
  "metadata": {
    "colab": {
      "name": "01b-matrix-work.ipynb",
      "provenance": [],
      "collapsed_sections": [
        "Nj7VnNSUtnI_",
        "ivVeThbktnJC"
      ],
      "include_colab_link": true
    },
    "kernelspec": {
      "display_name": "Python 3",
      "language": "python",
      "name": "python3"
    }
  },
  "cells": [
    {
      "cell_type": "markdown",
      "metadata": {
        "id": "view-in-github",
        "colab_type": "text"
      },
      "source": [
        "<a href=\"https://colab.research.google.com/github/jarrydmartinx/ml-basics/blob/master/matrices.ipynb\" target=\"_parent\"><img src=\"https://colab.research.google.com/assets/colab-badge.svg\" alt=\"Open In Colab\"/></a>"
      ]
    },
    {
      "cell_type": "markdown",
      "metadata": {
        "id": "SxV6Lwi-tnIr",
        "colab_type": "text"
      },
      "source": [
        "# Matrix decomposition"
      ]
    },
    {
      "cell_type": "markdown",
      "metadata": {
        "id": "6lPOLCMrtnIs",
        "colab_type": "text"
      },
      "source": [
        "###### COMP4670/8600 - Introduction to Statistical Machine Learning - Tutorial 1b"
      ]
    },
    {
      "cell_type": "markdown",
      "metadata": {
        "id": "RzhwxyYCtnIu",
        "colab_type": "text"
      },
      "source": [
        "Setting up the environment"
      ]
    },
    {
      "cell_type": "code",
      "metadata": {
        "id": "rLp77N0ftnIv",
        "colab_type": "code",
        "colab": {}
      },
      "source": [
        "import matplotlib.pyplot as plt\n",
        "import numpy as np\n",
        "import pandas as pd\n",
        "import scipy.optimize as opt\n",
        "import pickle\n",
        "\n",
        "%matplotlib inline\n"
      ],
      "execution_count": 0,
      "outputs": []
    },
    {
      "cell_type": "markdown",
      "metadata": {
        "id": "l0KqPCDBtnIz",
        "colab_type": "text"
      },
      "source": [
        "## Covariance matrix and positive semidefinite matrix\n",
        "\n",
        "For a dataset $X$ with $N$ examples and $D$ features, we can represent it as a matrix. What is the dimensions of this matrix $X$? The covariance matrix $C$ is the matrix representing the variance and covariance between each pair of features. What is the size of this matrix $C$?"
      ]
    },
    {
      "cell_type": "markdown",
      "metadata": {
        "id": "lPVuKh1ntnI0",
        "colab_type": "text"
      },
      "source": [
        "### <span style=\"color:blue\">Answer</span>\n",
        "* The data matrix $X$ is $N$ by $D$\n",
        "* The covariance matrix $C$ is $D$ by $D$"
      ]
    },
    {
      "cell_type": "markdown",
      "metadata": {
        "id": "QkZ_cOWvtnI2",
        "colab_type": "text"
      },
      "source": [
        "Generate a data matrix $X$ using ```gen_data``` from Tutorial 1a. Compute the covariance matrix $C$ and its eigenvalue decomposition using ```np.linalg.eigh```."
      ]
    },
    {
      "cell_type": "code",
      "metadata": {
        "scrolled": true,
        "id": "DwUjI2lftnI3",
        "colab_type": "code",
        "colab": {}
      },
      "source": [
        "def gen_data(samples: int, mean: np.ndarray, cov: np.ndarray):\n",
        "    \n",
        "    \"\"\"\n",
        "    \n",
        "    means is dim d\n",
        "    cov is dim dxd\n",
        "    samples is dim n\n",
        "    features is dim d\n",
        "    \n",
        "    \"\"\"\n",
        "    \n",
        "    assert mean.shape[0] == cov.shape[0] and cov.shape[0] == cov.shape[0]\n",
        "    \n",
        "    return np.random.multivariate_normal(mean, cov, samples)\n",
        "\n",
        "def covariance(x: np.ndarray) -> np.ndarray:\n",
        "\n",
        "    centered_x = x - np.mean(x, axis=0, keepdims=True)\n",
        "    \n",
        "    return np.matrix(np.dot(centered_x.T, centered_x) / x.shape[0])"
      ],
      "execution_count": 0,
      "outputs": []
    },
    {
      "cell_type": "code",
      "metadata": {
        "id": "u1Buorfgtdrs",
        "colab_type": "code",
        "outputId": "171dc209-068f-467d-a766-46661914f425",
        "colab": {
          "base_uri": "https://localhost:8080/",
          "height": 191
        }
      },
      "source": [
        "x = gen_data(10, np.array([1, 3]), np.diag([1, 7]))\n",
        "x"
      ],
      "execution_count": 0,
      "outputs": [
        {
          "output_type": "execute_result",
          "data": {
            "text/plain": [
              "array([[ 0.72472403,  2.20949529],\n",
              "       [ 1.71124313,  6.55564423],\n",
              "       [ 1.92760346,  2.81567154],\n",
              "       [ 3.44248358,  5.81932267],\n",
              "       [ 0.22297827,  1.85903835],\n",
              "       [-0.46080786,  3.02651712],\n",
              "       [-0.39065614, -1.93584238],\n",
              "       [ 1.13488135,  4.99988516],\n",
              "       [ 1.0898408 ,  3.15555109],\n",
              "       [ 1.61805441,  0.74898755]])"
            ]
          },
          "metadata": {
            "tags": []
          },
          "execution_count": 131
        }
      ]
    },
    {
      "cell_type": "markdown",
      "metadata": {
        "id": "a1vhDT-WtnI5",
        "colab_type": "text"
      },
      "source": [
        "Covariance matrices are an example of a class of matrices which are *positive semidefinite*. A matrix $A$ is called symmetric if $A_{ij}=A_{ji}$. Another way to say this is that $A=A^\\top$. A matrix $A\\in\\mathbb{R}^{n\\times n}$ is called **positive semidefinite**, if for all vectors $x\\in\\mathbb{R}^n$,\n",
        "$$\n",
        "    x^\\top A x \\geqslant 0.\n",
        "$$\n",
        "Show that the eigenvalues of a positive semidefinite matrix are non-negative."
      ]
    },
    {
      "cell_type": "markdown",
      "metadata": {
        "id": "tI3oDS5FtnI5",
        "colab_type": "text"
      },
      "source": [
        "### <span style=\"color:blue\">Answer</span>\n",
        "<i>--- replace this with your solution ---</i>"
      ]
    },
    {
      "cell_type": "markdown",
      "metadata": {
        "id": "7pVeNEsqtnI6",
        "colab_type": "text"
      },
      "source": [
        "## Principal component analysis (PCA)\n",
        "\n",
        "You will see more about principal component analysis later in the course. For now, we will treat PCA as an exercise in matrix manipulation.\n",
        "\n",
        "The **Singular Values** of a square matrix $A$ is defined as the square root of the eigenvalues of $A^T A$. Given a matrix $X$, the singular value decomposition (SVD) is given by\n",
        "$$\n",
        "X = U S V^T\n",
        "$$\n",
        "where $U$ and $V$ are orthogonal matrices containing the left and right singular vectors respectively. And $S$ is a matrix with the singular values along the diagonal.\n",
        "\n",
        "Using the definition of the covariance matrix $C$:\n",
        "1. Substitute the singular value decomposition of $X$\n",
        "2. Simplify the resulting expression. You should have an expression of $C$ in terms of $U$ and $S$.\n",
        "3. Recall from Tutorial 2, the definition of an eigenvalue decomposition.\n",
        "4. What is the matrix that contains the eigenvectors corresponding to the $k$ largest eigenvalues of $C$?\n",
        "\n",
        "\n",
        "\n",
        "Recall that PCA considers the covariance matrix of a data matrix $X$. Using the definition of SVD above, derive expressions for:\n",
        "1. the eigenvectors\n",
        "2. the projection of $X$ onto the $k$ largest eigenvalues\n"
      ]
    },
    {
      "cell_type": "markdown",
      "metadata": {
        "id": "vE_PFv9HtnI7",
        "colab_type": "text"
      },
      "source": [
        "### Answer\n",
        "* Recall that the $k$ principal components of X correspond exactly to the eigenvectors of the covariance matrix $C$, ordered in descending order by their eigenvalues\n",
        "* The eigenvalues are exactly equal to the variance of the dataset along the corresponding eigenvectors\n",
        "* In fact there exists a full set of orthonormal eigenvectors for the covariance matrix $C$ (Real Spectral Theorem)\n",
        "* Below we show that the square roots of the eigenvalues of $X^\\top X$ are the singular values of $X$.\n",
        "For a centered matrix:\n",
        "\\begin{align}\n",
        "C &= \\frac{1}{n-1} X^\\top X \\\\\n",
        "&= \\frac{1}{n-1}(U S V^\\top)^\\top(U S V^\\top) \\\\\n",
        "&= \\frac{1}{n-1}VSU^\\top U S V^\\top \\\\\n",
        "&= \\frac{1}{n-1}V S^2 V^\\top\n",
        "\\end{align}\n",
        "* Hence the right-singular vectors of the $n \\times d$ data matrix are the principal components (the eigenvectors of the covariance matrix). The eigenvalues are the square singular values.\n",
        "* For an empirical covariance then:\n",
        "* The columns of $V$ are the principal directions/axes (eigenvectors of $C$)\n",
        "* The principal components (scores) are projection of X onto the principal directions\n",
        "$$ XV = U S V^\\top V = U S$$\n",
        "* The eigenvalues of the covariance matrix C are:\n",
        "\\begin{align}\n",
        "\\lambda_i = s^2_i / (n-1) \\qquad \\text{where $s_i$ are the singular values of $X$}\n",
        "\\end{align}\n"
      ]
    },
    {
      "cell_type": "markdown",
      "metadata": {
        "id": "HD7yW5MRtnI8",
        "colab_type": "text"
      },
      "source": [
        "## Implement PCA\n",
        "\n",
        "Implement the principal component analysis method, using ```numpy.linalg.svd```. Your function should take the data matrix and return two matrices:\n",
        "1. The projection of the data onto the principal components\n",
        "2. The actual components (eigenvectors) themselves.\n",
        "\n",
        "*Hint: do not forget to center the data by removing the mean*"
      ]
    },
    {
      "cell_type": "code",
      "metadata": {
        "id": "4WKIHMt4tnI8",
        "colab_type": "code",
        "colab": {}
      },
      "source": [
        "def pca(data_matrix: np.ndarray):\n",
        "    \n",
        "    \"\"\"\n",
        "    data matrix X has shape n x d\n",
        "    covariance matrix X.T . X has shape d x d\n",
        "    eigenvectors have dimension d\n",
        "\n",
        "\n",
        "    SVD USV of X has dimensions \n",
        "    U: n x n\n",
        "    S: n x d\n",
        "    V.T: d x d\n",
        "\n",
        "    The eigenvectors are the columns of V = (V.T).T (dxd)\n",
        "    The projection onto the principal directions is XV = USV.T V = US (nxd) \n",
        "\n",
        "\"\"\"\n",
        "    \n",
        "    shape = data_matrix.shape\n",
        "    \n",
        "    U, s_values, VT = np.linalg.svd(data_matrix)\n",
        "    \n",
        "    print('U: {}, s_values: {}, VT: {}'.format(U.shape, \n",
        "                                               s_values.shape, \n",
        "                                               VT.shape))\n",
        "    \n",
        "    directions = VT.T\n",
        "    \n",
        "    S = np.diag(s_values)\n",
        "    S.resize(shape)\n",
        "    \n",
        "    projection = np.dot(U, S)\n",
        "    \n",
        "    return projection, directions\n",
        "    \n",
        "    \n",
        "    \n"
      ],
      "execution_count": 0,
      "outputs": []
    },
    {
      "cell_type": "markdown",
      "metadata": {
        "id": "Nj7VnNSUtnI_",
        "colab_type": "text"
      },
      "source": [
        "### Testing PCA\n",
        "\n",
        "Use the code from Tutorial 1 to generate toy data with 100 samples in 5 dimensions. Recall that the data is from two Gaussians with unit variance, centered at $\\mathbf{1}$ and $-\\mathbf{1}$ respectively.\n",
        "\n",
        "Obtain the projection of the toy data to its first two principal components. Plot the results. You should be able to see that the first principal component already gives you the axis of discrimination. Revisit the question of the effect of dimension on two Gaussians with unit variance."
      ]
    },
    {
      "cell_type": "code",
      "metadata": {
        "id": "Ml3PpaPatnJA",
        "colab_type": "code",
        "outputId": "47d96e9b-4dc7-460c-82f5-3ee289df8fbe",
        "colab": {
          "base_uri": "https://localhost:8080/",
          "height": 300
        }
      },
      "source": [
        "data_a = gen_data(100, \n",
        "                np.array(np.ones(5)), \n",
        "                np.diag(np.ones(5)))\n",
        "data_b = gen_data(100, \n",
        "                np.array(np.ones(5) * -1.), \n",
        "                np.diag(np.ones(5)))\n",
        "\n",
        "\n",
        "data = np.concatenate((data_a, data_b), axis=0)\n",
        "print(data.shape)\n",
        "\n",
        "projection, directions = pca(data)\n",
        "\n",
        "columns=['x_1', 'x_2', 'x_3', 'x_4', 'x_5']\n",
        "\n",
        "\n",
        "raw_df = pd.DataFrame(data, columns=columns)\n",
        "projected_df = pd.DataFrame(projection, columns=columns)\n",
        "\n",
        "x = raw_df.x_1\n",
        "y = raw_df.x_2\n",
        "\n",
        "\n",
        "plt.figure(1)\n",
        "plt.subplot(121)\n",
        "plt.scatter(x, y)\n",
        "\n",
        "u, v = projected_df.x_1, projected_df.x_2\n",
        "\n",
        "plt.subplot(122)\n",
        "plt.scatter(u, v)\n",
        "\n",
        "plt.show()"
      ],
      "execution_count": 0,
      "outputs": [
        {
          "output_type": "stream",
          "text": [
            "(200, 5)\n",
            "[34.94551506 14.82696273 14.1125023  13.52221266 12.97823256]\n"
          ],
          "name": "stdout"
        },
        {
          "output_type": "display_data",
          "data": {
            "image/png": "[encoded data removed]",
            "text/plain": [
              "<Figure size 432x288 with 2 Axes>"
            ]
          },
          "metadata": {
            "tags": []
          }
        }
      ]
    },
    {
      "cell_type": "markdown",
      "metadata": {
        "id": "ivVeThbktnJC",
        "colab_type": "text"
      },
      "source": [
        "## (optional) Effect of normalisation on principal components\n",
        "\n",
        "The toy dataset is generated from spherical Gaussians. Explore the following effects on PCA:\n",
        "- Multiply each feature by a different scaling factor.\n",
        "- Write a new function for generating data from more than 2 Gaussians, placed at different locations.\n",
        "- Write a new function for generating data that generates Gaussians which are not spherical."
      ]
    },
    {
      "cell_type": "code",
      "metadata": {
        "id": "tX2p-A2pBBOJ",
        "colab_type": "code",
        "cellView": "code",
        "colab": {}
      },
      "source": [
        "#@title Playing around with PCA Plotting\n",
        "\n",
        "def non_spherical(num_gaussians: int, features: int, samples: int):\n",
        "    \"\"\"\n",
        "    Samples means samples from EACH gaussian\n",
        "    The shape returned will be (num_gaussians * samples, features)\n",
        "    \"\"\"\n",
        "    \n",
        "    data_list = []\n",
        "    for i in range(num_gaussians):\n",
        "        data_list.append(gen_data(samples, \n",
        "                                  np.random.randint(-10, 10, size=features), \n",
        "                                  np.diag(np.random.randint(30, size=features))))\n",
        "\n",
        "    data = np.concatenate(data_list, axis=0)\n",
        "        \n",
        "    return data"
      ],
      "execution_count": 0,
      "outputs": []
    },
    {
      "cell_type": "code",
      "metadata": {
        "id": "ftjFtCkCClNG",
        "colab_type": "code",
        "outputId": "30fb0988-4b96-4ee4-8f1f-82e13c8f7d3d",
        "colab": {
          "base_uri": "https://localhost:8080/",
          "height": 35
        }
      },
      "source": [
        "non_spherical(3, 5, 100).shape"
      ],
      "execution_count": 0,
      "outputs": [
        {
          "output_type": "execute_result",
          "data": {
            "text/plain": [
              "(300, 5)"
            ]
          },
          "metadata": {
            "tags": []
          },
          "execution_count": 249
        }
      ]
    },
    {
      "cell_type": "code",
      "metadata": {
        "id": "iRMbAsIOXTaS",
        "colab_type": "code",
        "cellView": "code",
        "outputId": "1a094ee1-f7ca-4fe7-d17b-96d5aa4036ae",
        "colab": {
          "base_uri": "https://localhost:8080/",
          "height": 283
        }
      },
      "source": [
        "data = non_spherical(3, 5, 40)\n",
        "\n",
        "projection, directions = pca(data)\n",
        "\n",
        "columns_x=['x_1', 'x_2', 'x_3', 'x_4', 'x_5']\n",
        "columns_v=['v_1', 'v_2', 'v_3', 'v_4', 'v_5']\n",
        "\n",
        "\n",
        "raw_df = pd.DataFrame(data, columns=columns_x)\n",
        "projected_df = pd.DataFrame(projection, columns=columns_v)\n",
        "\n",
        "x = raw_df.x_1\n",
        "y = raw_df.x_2\n",
        "\n",
        "\n",
        "plt.figure(1)\n",
        "plt.subplot(121)\n",
        "plt.scatter(x, y)\n",
        "\n",
        "u, v = projected_df.v_1, projected_df.v_2\n",
        "\n",
        "plt.subplot(122)\n",
        "plt.scatter(u, v)\n",
        "\n",
        "\n",
        "plt.show()"
      ],
      "execution_count": 0,
      "outputs": [
        {
          "output_type": "stream",
          "text": [
            "[109.37832751  92.42851196  47.27473569  32.11181957  26.24055705]\n"
          ],
          "name": "stdout"
        },
        {
          "output_type": "display_data",
          "data": {
            "image/png": "[encoded data removed]",
            "text/plain": [
              "<Figure size 432x288 with 2 Axes>"
            ]
          },
          "metadata": {
            "tags": []
          }
        }
      ]
    },
    {
      "cell_type": "markdown",
      "metadata": {
        "id": "rg3tIZRStnJG",
        "colab_type": "text"
      },
      "source": [
        "## Eigenfaces\n",
        "\n",
        "The aim of this section of the tutorial is to see that in some cases, the principal components can be human interpretable.\n",
        "\n",
        "The images below are of Colin Powell, resized to a smaller image, from [LFW](http://vis-www.cs.umass.edu/lfw/). Download the images from [the course website](https://machlearn.gitlab.io/isml2018/tutorials/lfw_colin.pkl)."
      ]
    },
    {
      "cell_type": "code",
      "metadata": {
        "id": "HVeW_GhbtnJI",
        "colab_type": "code",
        "colab": {}
      },
      "source": [
        "# Visualising images\n",
        "def plot_gallery(images, titles, h, w, n_row=2, n_col=6):\n",
        "    \"\"\"Helper function to plot a gallery of portraits\"\"\"\n",
        "    plt.figure(figsize=(1.8 * n_col, 2.4 * n_row))\n",
        "    plt.subplots_adjust(bottom=0, left=.01, right=.99, top=.90, hspace=.35)\n",
        "    for i in range(n_row * n_col):\n",
        "        plt.subplot(n_row, n_col, i + 1)\n",
        "        plt.imshow(images[i].reshape((h, w)), cmap=plt.cm.gray)\n",
        "        plt.title(titles[i], size=12)\n",
        "        plt.xticks(())\n",
        "        plt.yticks(())\n",
        "\n"
      ],
      "execution_count": 0,
      "outputs": []
    },
    {
      "cell_type": "code",
      "metadata": {
        "id": "CkR7m9IJtnJK",
        "colab_type": "code",
        "colab": {}
      },
      "source": [
        "! curl https://machlearn.gitlab.io/isml2018/tutorials/lfw_colin.pkl > lfw_colin.pkl\n",
        "lfw_colin = pickle.load(open('lfw_colin.pkl', 'rb'))\n",
        "\n",
        "# introspect the images array to find the shapes (for plotting)\n",
        "n_samples, h, w = lfw_colin['images'].shape\n",
        "plot_gallery(lfw_colin['images'], range(n_samples), h, w)\n"
      ],
      "execution_count": 0,
      "outputs": []
    },
    {
      "cell_type": "code",
      "metadata": {
        "id": "YbtgQRsBOqei",
        "colab_type": "code",
        "colab": {}
      },
      "source": [
        "# ! curl http://vis-www.cs.umass.edu/lfw/lfw-funneled.tgz > lfw_funneled.tgz\n",
        "    "
      ],
      "execution_count": 0,
      "outputs": []
    },
    {
      "cell_type": "code",
      "metadata": {
        "id": "T7l7_5R1O3f3",
        "colab_type": "code",
        "colab": {}
      },
      "source": [
        "# ! tar -xvzf lfw_funneled.tgz"
      ],
      "execution_count": 0,
      "outputs": []
    },
    {
      "cell_type": "markdown",
      "metadata": {
        "id": "ElGtDbGHtnJN",
        "colab_type": "text"
      },
      "source": [
        "Use the ```pca``` function you wrote above to find the first 15 principal components. Visualise them. Discuss what the components potentially capture, for example lighting from the right.\n",
        "\n",
        "*Hint: Images need to be converted into a vector for PCA, and the results need to be converted back*"
      ]
    },
    {
      "cell_type": "code",
      "metadata": {
        "id": "MPKuSf4rNDMn",
        "colab_type": "code",
        "outputId": "75da1d04-e8e8-48af-faf8-0d0500f7d97e",
        "colab": {
          "base_uri": "https://localhost:8080/",
          "height": 35
        }
      },
      "source": [
        "lfw_colin['images'].shape"
      ],
      "execution_count": 0,
      "outputs": [
        {
          "output_type": "execute_result",
          "data": {
            "text/plain": [
              "(236, 50, 37)"
            ]
          },
          "metadata": {
            "tags": []
          },
          "execution_count": 305
        }
      ]
    },
    {
      "cell_type": "code",
      "metadata": {
        "id": "st-N2ztbK7kV",
        "colab_type": "code",
        "colab": {}
      },
      "source": [
        "def eigenfaces(images: np.ndarray,\n",
        "               num_faces: int):\n",
        "    \n",
        "    n_samples, h, w = images.shape\n",
        "    \n",
        "    vector_images = np.reshape(images, (n_samples, h * w))\n",
        "    \n",
        "    print(vector_images.shape)\n",
        "    \n",
        "    projected_data, e_vectors = pca(vector_images)\n",
        "    \n",
        "    principal_dirs = e_vectors[:, :num_faces].T\n",
        "    \n",
        "    print(principal_dirs.shape)\n",
        "    \n",
        "    eigenfaces = np.reshape(principal_dirs, (num_faces, h, w))\n",
        "    \n",
        "    plot_gallery(eigenfaces, range(num_faces), h, w)"
      ],
      "execution_count": 0,
      "outputs": []
    },
    {
      "cell_type": "code",
      "metadata": {
        "id": "ouFwqVHONtvG",
        "colab_type": "code",
        "outputId": "69a290ae-b8a8-497c-8379-7cad4febe25c",
        "colab": {
          "base_uri": "https://localhost:8080/",
          "height": 409
        }
      },
      "source": [
        "eigenfaces(lfw_colin['images'], 12)"
      ],
      "execution_count": 0,
      "outputs": [
        {
          "output_type": "stream",
          "text": [
            "(236, 1850)\n",
            "U: (236, 236), s_values: (236,), VT: (1850, 1850)\n",
            "(12, 1850)\n"
          ],
          "name": "stdout"
        },
        {
          "output_type": "display_data",
          "data": {
            "image/png": "[encoded data removed]",
            "text/plain": [
              "<Figure size 777.6x345.6 with 12 Axes>"
            ]
          },
          "metadata": {
            "tags": []
          }
        }
      ]
    }
  ]
}