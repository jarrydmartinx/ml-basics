{
  "nbformat": 4,
  "nbformat_minor": 0,
  "metadata": {
    "colab": {
      "name": "03-regression-work.ipynb",
      "provenance": [],
      "collapsed_sections": [
        "OwDj2jxJh9uK"
      ],
      "include_colab_link": true
    },
    "kernelspec": {
      "display_name": "Python [default]",
      "language": "python",
      "name": "python3"
    }
  },
  "cells": [
    {
      "cell_type": "markdown",
      "metadata": {
        "id": "view-in-github",
        "colab_type": "text"
      },
      "source": [
        "<a href=\"https://colab.research.google.com/github/jarrydmartinx/ml-basics/blob/master/linear_regression.ipynb\" target=\"_parent\"><img src=\"https://colab.research.google.com/assets/colab-badge.svg\" alt=\"Open In Colab\"/></a>"
      ]
    },
    {
      "cell_type": "markdown",
      "metadata": {
        "id": "czJxRtqacOGv",
        "colab_type": "text"
      },
      "source": [
        "# Regression"
      ]
    },
    {
      "cell_type": "markdown",
      "metadata": {
        "id": "PVda7oJqcOGx",
        "colab_type": "text"
      },
      "source": [
        "###### COMP4670/8600 - Introduction to Statistical Machine Learning - Tutorial 3"
      ]
    },
    {
      "cell_type": "markdown",
      "metadata": {
        "id": "Q29s2f3bcOGy",
        "colab_type": "text"
      },
      "source": [
        "$\\newcommand{\\trace}[1]{\\operatorname{tr}\\left\\{#1\\right\\}}$\n",
        "$\\newcommand{\\Norm}[1]{\\lVert#1\\rVert}$\n",
        "$\\newcommand{\\RR}{\\mathbb{R}}$\n",
        "$\\newcommand{\\inner}[2]{\\langle #1, #2 \\rangle}$\n",
        "$\\newcommand{\\DD}{\\mathscr{D}}$\n",
        "$\\newcommand{\\grad}[1]{\\operatorname{grad}#1}$\n",
        "$\\DeclareMathOperator*{\\argmin}{arg\\,min}$\n",
        "\n",
        "Setting up the environment"
      ]
    },
    {
      "cell_type": "code",
      "metadata": {
        "id": "ewaZKYhRiUhw",
        "colab_type": "code",
        "outputId": "231f42bb-f5e4-4632-f6c2-0a943238b35f",
        "colab": {
          "base_uri": "https://localhost:8080/",
          "height": 121
        }
      },
      "source": [
        "! pip install -q plotnine\n",
        "! pip install dm-sonnet==1.29"
      ],
      "execution_count": 0,
      "outputs": [
        {
          "output_type": "stream",
          "text": [
            "\u001b[K    100% |████████████████████████████████| 3.6MB 7.6MB/s \n",
            "\u001b[K    100% |████████████████████████████████| 10.1MB 2.6MB/s \n",
            "\u001b[K    100% |████████████████████████████████| 61kB 12.4MB/s \n",
            "\u001b[K    100% |████████████████████████████████| 81kB 21.3MB/s \n",
            "\u001b[31mfastai 1.0.49 has requirement numpy>=1.15, but you'll have numpy 1.14.6 which is incompatible.\u001b[0m\n",
            "\u001b[?25h"
          ],
          "name": "stdout"
        }
      ]
    },
    {
      "cell_type": "code",
      "metadata": {
        "id": "hSnLoSj0zm_8",
        "colab_type": "code",
        "outputId": "bf432a05-8d50-48e0-8635-24a14fd93b8f",
        "colab": {
          "base_uri": "https://localhost:8080/",
          "height": 374
        }
      },
      "source": [
        "! pip install pandas==0.23"
      ],
      "execution_count": 0,
      "outputs": [
        {
          "output_type": "stream",
          "text": [
            "Collecting pandas==0.23\n",
            "\u001b[?25l  Downloading https://files.pythonhosted.org/packages/69/ec/8ff0800b8594691759b78a42ccd616f81e7099ee47b167eb9bbd502c02b9/pandas-0.23.0-cp36-cp36m-manylinux1_x86_64.whl (11.7MB)\n",
            "\u001b[K    100% |████████████████████████████████| 11.7MB 2.7MB/s \n",
            "\u001b[?25hRequirement already satisfied: pytz>=2011k in /usr/local/lib/python3.6/dist-packages (from pandas==0.23) (2018.9)\n",
            "Requirement already satisfied: numpy>=1.9.0 in /usr/local/lib/python3.6/dist-packages (from pandas==0.23) (1.14.0)\n",
            "Requirement already satisfied: python-dateutil>=2.5.0 in /usr/local/lib/python3.6/dist-packages (from pandas==0.23) (2.5.3)\n",
            "Requirement already satisfied: six>=1.5 in /usr/local/lib/python3.6/dist-packages (from python-dateutil>=2.5.0->pandas==0.23) (1.11.0)\n",
            "\u001b[31mplotnine 0.5.1 has requirement pandas>=0.23.4, but you'll have pandas 0.23.0 which is incompatible.\u001b[0m\n",
            "\u001b[31mmizani 0.5.4 has requirement pandas>=0.23.4, but you'll have pandas 0.23.0 which is incompatible.\u001b[0m\n",
            "\u001b[31mfastai 1.0.49 has requirement numpy>=1.15, but you'll have numpy 1.14.0 which is incompatible.\u001b[0m\n",
            "Installing collected packages: pandas\n",
            "  Found existing installation: pandas 0.24.2\n",
            "    Uninstalling pandas-0.24.2:\n",
            "      Successfully uninstalled pandas-0.24.2\n",
            "Successfully installed pandas-0.23.0\n"
          ],
          "name": "stdout"
        },
        {
          "output_type": "display_data",
          "data": {
            "application/vnd.colab-display-data+json": {
              "pip_warning": {
                "packages": [
                  "pandas"
                ]
              }
            }
          },
          "metadata": {
            "tags": []
          }
        }
      ]
    },
    {
      "cell_type": "code",
      "metadata": {
        "id": "QKX-ZUmUcOG0",
        "colab_type": "code",
        "colab": {}
      },
      "source": [
        "import matplotlib.pyplot as plt\n",
        "import numpy as np\n",
        "import pandas as pd\n",
        "import sonnet as snt\n",
        "import plotnine as gg\n",
        "import tensorflow as tf\n",
        "import scipy.optimize as opt\n",
        "from sklearn import datasets\n",
        "\n",
        "%matplotlib inline"
      ],
      "execution_count": 0,
      "outputs": []
    },
    {
      "cell_type": "markdown",
      "metadata": {
        "id": "E7MhGH6HcOG4",
        "colab_type": "text"
      },
      "source": [
        "## The data set\n",
        "\n",
        "\n",
        "We will use an old dataset on the price of housing in Boston (see [description](https://archive.ics.uci.edu/ml/datasets/Housing)). The aim is to predict the median value of the owner occupied homes from various other factors. We will use a normalised version of this data, where each row is an example. The median value of homes is given in the first column (the label) and the value of each subsequent feature has been normalised to be in the range $[-1,1]$. Download this dataset from [mldata.org](http://mldata.org/repository/data/download/csv/housing_scale/).\n",
        "\n",
        "Read in the data using ```np.loadtxt``` with the optional argument ```delimiter=','```.\n",
        "\n",
        "Check that the data is as expected using ```print()```. Use ```np.delete``` and ```del``` to remove the column containing the binary variable 'chas' and the corresponding label, respectively. ```names.index('chas')``` is a convenient way to get the index of that column. This should give you an ```np.ndarray``` with 506 rows (examples) and 13 columns (1 label and 12 features)."
      ]
    },
    {
      "cell_type": "code",
      "metadata": {
        "id": "-yeB_6UKfizi",
        "colab_type": "code",
        "colab": {}
      },
      "source": [
        "# Evaluate cell without going to next: CTRL, ENTER\n",
        "# Evaluate single line: CTRL SHIFT ENTER"
      ],
      "execution_count": 0,
      "outputs": []
    },
    {
      "cell_type": "code",
      "metadata": {
        "id": "mLc9eww7cOG5",
        "colab_type": "code",
        "colab": {}
      },
      "source": [
        "names = ['medv', 'crim', 'zn', 'indus', 'chas', 'nox', 'rm', 'age', 'dis', 'rad', 'tax', 'ptratio', 'b', 'lstat']"
      ],
      "execution_count": 0,
      "outputs": []
    },
    {
      "cell_type": "code",
      "metadata": {
        "id": "zCZGrngAfdrP",
        "colab_type": "code",
        "outputId": "5ae42ba8-8b98-4773-9149-60afb02d175c",
        "colab": {
          "base_uri": "https://localhost:8080/",
          "height": 34
        }
      },
      "source": [
        "dogs = 'DOGS'\n",
        "dogs.lower()"
      ],
      "execution_count": 0,
      "outputs": [
        {
          "output_type": "execute_result",
          "data": {
            "text/plain": [
              "'dogs'"
            ]
          },
          "metadata": {
            "tags": []
          },
          "execution_count": 12
        }
      ]
    },
    {
      "cell_type": "code",
      "metadata": {
        "id": "IsneLbuWcOG7",
        "colab_type": "code",
        "colab": {}
      },
      "source": [
        "# replace this with your solution\n",
        "raw_data = datasets.load_boston()\n",
        "column_names=[name.lower() for name in raw_data['feature_names']]\n",
        "data = pd.DataFrame(raw_data['data'], columns=column_names)\n",
        "data['target'] = raw_data['target']"
      ],
      "execution_count": 0,
      "outputs": []
    },
    {
      "cell_type": "code",
      "metadata": {
        "id": "0MpTPX3yfH99",
        "colab_type": "code",
        "outputId": "b4cba6de-e9b4-4e85-b030-83cb58a87a0c",
        "colab": {
          "base_uri": "https://localhost:8080/",
          "height": 215
        }
      },
      "source": [
        "data.head()"
      ],
      "execution_count": 0,
      "outputs": [
        {
          "output_type": "execute_result",
          "data": {
            "text/html": [
              "<div>\n",
              "<style scoped>\n",
              "    .dataframe tbody tr th:only-of-type {\n",
              "        vertical-align: middle;\n",
              "    }\n",
              "\n",
              "    .dataframe tbody tr th {\n",
              "        vertical-align: top;\n",
              "    }\n",
              "\n",
              "    .dataframe thead th {\n",
              "        text-align: right;\n",
              "    }\n",
              "</style>\n",
              "<table border=\"1\" class=\"dataframe\">\n",
              "  <thead>\n",
              "    <tr style=\"text-align: right;\">\n",
              "      <th></th>\n",
              "      <th>crim</th>\n",
              "      <th>zn</th>\n",
              "      <th>indus</th>\n",
              "      <th>chas</th>\n",
              "      <th>nox</th>\n",
              "      <th>rm</th>\n",
              "      <th>age</th>\n",
              "      <th>dis</th>\n",
              "      <th>rad</th>\n",
              "      <th>tax</th>\n",
              "      <th>ptratio</th>\n",
              "      <th>b</th>\n",
              "      <th>lstat</th>\n",
              "      <th>target</th>\n",
              "    </tr>\n",
              "  </thead>\n",
              "  <tbody>\n",
              "    <tr>\n",
              "      <th>0</th>\n",
              "      <td>0.00632</td>\n",
              "      <td>18.0</td>\n",
              "      <td>2.31</td>\n",
              "      <td>0.0</td>\n",
              "      <td>0.538</td>\n",
              "      <td>6.575</td>\n",
              "      <td>65.2</td>\n",
              "      <td>4.0900</td>\n",
              "      <td>1.0</td>\n",
              "      <td>296.0</td>\n",
              "      <td>15.3</td>\n",
              "      <td>396.90</td>\n",
              "      <td>4.98</td>\n",
              "      <td>24.0</td>\n",
              "    </tr>\n",
              "    <tr>\n",
              "      <th>1</th>\n",
              "      <td>0.02731</td>\n",
              "      <td>0.0</td>\n",
              "      <td>7.07</td>\n",
              "      <td>0.0</td>\n",
              "      <td>0.469</td>\n",
              "      <td>6.421</td>\n",
              "      <td>78.9</td>\n",
              "      <td>4.9671</td>\n",
              "      <td>2.0</td>\n",
              "      <td>242.0</td>\n",
              "      <td>17.8</td>\n",
              "      <td>396.90</td>\n",
              "      <td>9.14</td>\n",
              "      <td>21.6</td>\n",
              "    </tr>\n",
              "    <tr>\n",
              "      <th>2</th>\n",
              "      <td>0.02729</td>\n",
              "      <td>0.0</td>\n",
              "      <td>7.07</td>\n",
              "      <td>0.0</td>\n",
              "      <td>0.469</td>\n",
              "      <td>7.185</td>\n",
              "      <td>61.1</td>\n",
              "      <td>4.9671</td>\n",
              "      <td>2.0</td>\n",
              "      <td>242.0</td>\n",
              "      <td>17.8</td>\n",
              "      <td>392.83</td>\n",
              "      <td>4.03</td>\n",
              "      <td>34.7</td>\n",
              "    </tr>\n",
              "    <tr>\n",
              "      <th>3</th>\n",
              "      <td>0.03237</td>\n",
              "      <td>0.0</td>\n",
              "      <td>2.18</td>\n",
              "      <td>0.0</td>\n",
              "      <td>0.458</td>\n",
              "      <td>6.998</td>\n",
              "      <td>45.8</td>\n",
              "      <td>6.0622</td>\n",
              "      <td>3.0</td>\n",
              "      <td>222.0</td>\n",
              "      <td>18.7</td>\n",
              "      <td>394.63</td>\n",
              "      <td>2.94</td>\n",
              "      <td>33.4</td>\n",
              "    </tr>\n",
              "    <tr>\n",
              "      <th>4</th>\n",
              "      <td>0.06905</td>\n",
              "      <td>0.0</td>\n",
              "      <td>2.18</td>\n",
              "      <td>0.0</td>\n",
              "      <td>0.458</td>\n",
              "      <td>7.147</td>\n",
              "      <td>54.2</td>\n",
              "      <td>6.0622</td>\n",
              "      <td>3.0</td>\n",
              "      <td>222.0</td>\n",
              "      <td>18.7</td>\n",
              "      <td>396.90</td>\n",
              "      <td>5.33</td>\n",
              "      <td>36.2</td>\n",
              "    </tr>\n",
              "  </tbody>\n",
              "</table>\n",
              "</div>"
            ],
            "text/plain": [
              "      crim    zn  indus  chas    nox     rm   age     dis  rad    tax  \\\n",
              "0  0.00632  18.0   2.31   0.0  0.538  6.575  65.2  4.0900  1.0  296.0   \n",
              "1  0.02731   0.0   7.07   0.0  0.469  6.421  78.9  4.9671  2.0  242.0   \n",
              "2  0.02729   0.0   7.07   0.0  0.469  7.185  61.1  4.9671  2.0  242.0   \n",
              "3  0.03237   0.0   2.18   0.0  0.458  6.998  45.8  6.0622  3.0  222.0   \n",
              "4  0.06905   0.0   2.18   0.0  0.458  7.147  54.2  6.0622  3.0  222.0   \n",
              "\n",
              "   ptratio       b  lstat  target  \n",
              "0     15.3  396.90   4.98    24.0  \n",
              "1     17.8  396.90   9.14    21.6  \n",
              "2     17.8  392.83   4.03    34.7  \n",
              "3     18.7  394.63   2.94    33.4  \n",
              "4     18.7  396.90   5.33    36.2  "
            ]
          },
          "metadata": {
            "tags": []
          },
          "execution_count": 3
        }
      ]
    },
    {
      "cell_type": "markdown",
      "metadata": {
        "id": "-yzElF_GcOHA",
        "colab_type": "text"
      },
      "source": [
        "## Plotting\n",
        "\n",
        "Plotting is done using the [matplotlib](http://matplotlib.org/) toolbox. For example:\n",
        "* Matplotlib has two interfaces. The first is an object-oriented (OO) interface. In this case, we utilize an instance of axes.Axes in order to render visualizations on an instance of figure.Figure.\n",
        "* The second is based on MATLAB and uses a state-based interface. This is encapsulated in the pyplot module. See the pyplot tutorials for a more in-depth look at the pyplot interface.\n",
        "\n",
        "## Elements of a plot\n",
        "* The **Figure** is the final image that may contain 1 or more axes\n",
        "    * It is like the canvas\n",
        "* The **Axes** represent an individual plot (don't confuse with the word 'axis')\n",
        "    * This is the particular part of the canvas on which we will make a particular visualisation\n",
        "* Figures can have multiple axes on them\n",
        "\n"
      ]
    },
    {
      "cell_type": "code",
      "metadata": {
        "id": "37KBhMsPWCRP",
        "colab_type": "code",
        "colab": {}
      },
      "source": [
        "# See the available plot styles\n",
        "for name in plt.style.available:\n",
        "    print(name)"
      ],
      "execution_count": 0,
      "outputs": []
    },
    {
      "cell_type": "code",
      "metadata": {
        "id": "NYtYwE13cOHB",
        "colab_type": "code",
        "colab": {}
      },
      "source": [
        "x = [0, 1.2 , 2, 3, 5.1, 7, 8, 9]\n",
        "y_1 = [1.1, 3, 2, 4, 5, 6, 8.1, 8.2]\n",
        "y_2 = [4.2, 4.2, 4.1, 5,6, 3.2, 4.8, 6]\n",
        "\n",
        "# We create a Figure instance and an Axes instance\n",
        "fig = plt.figure(figsize=(11,5))\n",
        "ax = fig.add_subplot(121)\n",
        "\n",
        "# Now that we have a new Axes instance, we can plot on top of it\n",
        "ax.plot(x,y1,'b--')\n",
        "ax.plot(x,y1,'bs',label='y1')\n",
        "ax.plot(x,y2,'r:')\n",
        "ax.plot(x,y2,'r>',label='y2')\n",
        "\n",
        "# We can set the ttile and labels for each axis (AXIS!! not Axes object)\n",
        "ax.set_title('Some random data')\n",
        "ax.set_ylabel('labels')\n",
        "ax.legend(loc='upper left', numpoints=1)\n",
        "\n",
        "# Now we can create another Axes instance (our second subplot)\n",
        "ax = fig.add_subplot(122)\n",
        "ax.plot(x,y1,'bo')\n",
        "# It has its own title, and axis labels\n",
        "ax.set_title('same data as before, without lines')\n",
        "ax.set_xlabel(r'examples (symbols, e.g. $\\alpha,\\beta,\\gamma$, works)')\n"
      ],
      "execution_count": 0,
      "outputs": []
    },
    {
      "cell_type": "markdown",
      "metadata": {
        "id": "ixqevzrUcOHD",
        "colab_type": "text"
      },
      "source": [
        "Plot the median value of the property (vertical axis) versus the tax rate (horizontal axis)."
      ]
    },
    {
      "cell_type": "code",
      "metadata": {
        "id": "ibnXT83UTIKW",
        "colab_type": "code",
        "outputId": "2f6c6185-d368-4776-c23b-9291b7456a6c",
        "colab": {
          "base_uri": "https://localhost:8080/",
          "height": 195
        }
      },
      "source": [
        "data.head()"
      ],
      "execution_count": 0,
      "outputs": [
        {
          "output_type": "execute_result",
          "data": {
            "text/html": [
              "<div>\n",
              "<style scoped>\n",
              "    .dataframe tbody tr th:only-of-type {\n",
              "        vertical-align: middle;\n",
              "    }\n",
              "\n",
              "    .dataframe tbody tr th {\n",
              "        vertical-align: top;\n",
              "    }\n",
              "\n",
              "    .dataframe thead th {\n",
              "        text-align: right;\n",
              "    }\n",
              "</style>\n",
              "<table border=\"1\" class=\"dataframe\">\n",
              "  <thead>\n",
              "    <tr style=\"text-align: right;\">\n",
              "      <th></th>\n",
              "      <th>crim</th>\n",
              "      <th>zn</th>\n",
              "      <th>indus</th>\n",
              "      <th>chas</th>\n",
              "      <th>nox</th>\n",
              "      <th>rm</th>\n",
              "      <th>age</th>\n",
              "      <th>dis</th>\n",
              "      <th>rad</th>\n",
              "      <th>tax</th>\n",
              "      <th>ptratio</th>\n",
              "      <th>b</th>\n",
              "      <th>lstat</th>\n",
              "      <th>target</th>\n",
              "    </tr>\n",
              "  </thead>\n",
              "  <tbody>\n",
              "    <tr>\n",
              "      <th>0</th>\n",
              "      <td>0.00632</td>\n",
              "      <td>18.0</td>\n",
              "      <td>2.31</td>\n",
              "      <td>0.0</td>\n",
              "      <td>0.538</td>\n",
              "      <td>6.575</td>\n",
              "      <td>65.2</td>\n",
              "      <td>4.0900</td>\n",
              "      <td>1.0</td>\n",
              "      <td>296.0</td>\n",
              "      <td>15.3</td>\n",
              "      <td>396.90</td>\n",
              "      <td>4.98</td>\n",
              "      <td>24.0</td>\n",
              "    </tr>\n",
              "    <tr>\n",
              "      <th>1</th>\n",
              "      <td>0.02731</td>\n",
              "      <td>0.0</td>\n",
              "      <td>7.07</td>\n",
              "      <td>0.0</td>\n",
              "      <td>0.469</td>\n",
              "      <td>6.421</td>\n",
              "      <td>78.9</td>\n",
              "      <td>4.9671</td>\n",
              "      <td>2.0</td>\n",
              "      <td>242.0</td>\n",
              "      <td>17.8</td>\n",
              "      <td>396.90</td>\n",
              "      <td>9.14</td>\n",
              "      <td>21.6</td>\n",
              "    </tr>\n",
              "    <tr>\n",
              "      <th>2</th>\n",
              "      <td>0.02729</td>\n",
              "      <td>0.0</td>\n",
              "      <td>7.07</td>\n",
              "      <td>0.0</td>\n",
              "      <td>0.469</td>\n",
              "      <td>7.185</td>\n",
              "      <td>61.1</td>\n",
              "      <td>4.9671</td>\n",
              "      <td>2.0</td>\n",
              "      <td>242.0</td>\n",
              "      <td>17.8</td>\n",
              "      <td>392.83</td>\n",
              "      <td>4.03</td>\n",
              "      <td>34.7</td>\n",
              "    </tr>\n",
              "    <tr>\n",
              "      <th>3</th>\n",
              "      <td>0.03237</td>\n",
              "      <td>0.0</td>\n",
              "      <td>2.18</td>\n",
              "      <td>0.0</td>\n",
              "      <td>0.458</td>\n",
              "      <td>6.998</td>\n",
              "      <td>45.8</td>\n",
              "      <td>6.0622</td>\n",
              "      <td>3.0</td>\n",
              "      <td>222.0</td>\n",
              "      <td>18.7</td>\n",
              "      <td>394.63</td>\n",
              "      <td>2.94</td>\n",
              "      <td>33.4</td>\n",
              "    </tr>\n",
              "    <tr>\n",
              "      <th>4</th>\n",
              "      <td>0.06905</td>\n",
              "      <td>0.0</td>\n",
              "      <td>2.18</td>\n",
              "      <td>0.0</td>\n",
              "      <td>0.458</td>\n",
              "      <td>7.147</td>\n",
              "      <td>54.2</td>\n",
              "      <td>6.0622</td>\n",
              "      <td>3.0</td>\n",
              "      <td>222.0</td>\n",
              "      <td>18.7</td>\n",
              "      <td>396.90</td>\n",
              "      <td>5.33</td>\n",
              "      <td>36.2</td>\n",
              "    </tr>\n",
              "  </tbody>\n",
              "</table>\n",
              "</div>"
            ],
            "text/plain": [
              "      crim    zn  indus  chas    nox     rm   age     dis  rad    tax  \\\n",
              "0  0.00632  18.0   2.31   0.0  0.538  6.575  65.2  4.0900  1.0  296.0   \n",
              "1  0.02731   0.0   7.07   0.0  0.469  6.421  78.9  4.9671  2.0  242.0   \n",
              "2  0.02729   0.0   7.07   0.0  0.469  7.185  61.1  4.9671  2.0  242.0   \n",
              "3  0.03237   0.0   2.18   0.0  0.458  6.998  45.8  6.0622  3.0  222.0   \n",
              "4  0.06905   0.0   2.18   0.0  0.458  7.147  54.2  6.0622  3.0  222.0   \n",
              "\n",
              "   ptratio       b  lstat  target  \n",
              "0     15.3  396.90   4.98    24.0  \n",
              "1     17.8  396.90   9.14    21.6  \n",
              "2     17.8  392.83   4.03    34.7  \n",
              "3     18.7  394.63   2.94    33.4  \n",
              "4     18.7  396.90   5.33    36.2  "
            ]
          },
          "metadata": {
            "tags": []
          },
          "execution_count": 69
        }
      ]
    },
    {
      "cell_type": "code",
      "metadata": {
        "id": "PXBW3MqFcOHE",
        "colab_type": "code",
        "outputId": "bbdf6057-9974-47b4-e094-9a30bd7034aa",
        "colab": {
          "base_uri": "https://localhost:8080/",
          "height": 310
        }
      },
      "source": [
        "# If we want to plot a single Axes on a single Figure\n",
        "fig, ax = plt.subplots()\n",
        "ax.plot(data.tax, data.target, 'bo')\n",
        "ax.set_xlabel('Tax Rate')\n",
        "ax.set_ylabel('Median Value ($1000s)')\n",
        "ax.set_title('Boston Housing Data')"
      ],
      "execution_count": 0,
      "outputs": [
        {
          "output_type": "execute_result",
          "data": {
            "text/plain": [
              "Text(0.5, 1.0, 'Boston Housing Data')"
            ]
          },
          "metadata": {
            "tags": []
          },
          "execution_count": 77
        },
        {
          "output_type": "display_data",
          "data": {
            "image/png": "[encoded data removed]",
            "text/plain": [
              "<Figure size 432x288 with 1 Axes>"
            ]
          },
          "metadata": {
            "tags": []
          }
        }
      ]
    },
    {
      "cell_type": "code",
      "metadata": {
        "id": "n3bR1GrnTKfV",
        "colab_type": "code",
        "outputId": "1f97d706-8cce-4dee-909a-da5b491dff0e",
        "colab": {
          "base_uri": "https://localhost:8080/",
          "height": 366
        }
      },
      "source": [
        "fig = plt.figure(figsize=(11,5))\n",
        "ax = fig.add_subplot(121)\n",
        "ax.plot(data.dis, data.target, 'go')\n",
        "ax.set_title('Boston Houses: Distance from Center vs. Price')\n",
        "ax.set_xlabel('Distance from Town Center')\n",
        "ax.set_ylabel('Median Value ($1000s)')\n",
        "\n",
        "ax_right = fig.add_subplot(122)\n",
        "ax_right.plot(data.age, data.target, 'yo')\n",
        "ax_right.set_title('Boston Houses: Age vs. Price')\n",
        "ax_right.set_xlabel('Age')\n",
        "ax_right.set_ylabel('Median Value ($1000s)')\n"
      ],
      "execution_count": 0,
      "outputs": [
        {
          "output_type": "execute_result",
          "data": {
            "text/plain": [
              "Text(0, 0.5, 'Median Value ($1000s)')"
            ]
          },
          "metadata": {
            "tags": []
          },
          "execution_count": 85
        },
        {
          "output_type": "display_data",
          "data": {
            "image/png": "[encoded data removed]",
            "text/plain": [
              "<Figure size 792x360 with 2 Axes>"
            ]
          },
          "metadata": {
            "tags": []
          }
        }
      ]
    },
    {
      "cell_type": "markdown",
      "metadata": {
        "id": "OwDj2jxJh9uK",
        "colab_type": "text"
      },
      "source": [
        "## Non-linear regression with TensorFlow"
      ]
    },
    {
      "cell_type": "code",
      "metadata": {
        "id": "44EBsX49jA3O",
        "colab_type": "code",
        "outputId": "9d3206ac-9fad-4f3e-b051-c1ae42a365a7",
        "colab": {
          "base_uri": "https://localhost:8080/",
          "height": 218
        }
      },
      "source": [
        "data.head()"
      ],
      "execution_count": 0,
      "outputs": [
        {
          "output_type": "execute_result",
          "data": {
            "text/html": [
              "<div>\n",
              "<style scoped>\n",
              "    .dataframe tbody tr th:only-of-type {\n",
              "        vertical-align: middle;\n",
              "    }\n",
              "\n",
              "    .dataframe tbody tr th {\n",
              "        vertical-align: top;\n",
              "    }\n",
              "\n",
              "    .dataframe thead th {\n",
              "        text-align: right;\n",
              "    }\n",
              "</style>\n",
              "<table border=\"1\" class=\"dataframe\">\n",
              "  <thead>\n",
              "    <tr style=\"text-align: right;\">\n",
              "      <th></th>\n",
              "      <th>crim</th>\n",
              "      <th>zn</th>\n",
              "      <th>indus</th>\n",
              "      <th>chas</th>\n",
              "      <th>nox</th>\n",
              "      <th>rm</th>\n",
              "      <th>age</th>\n",
              "      <th>dis</th>\n",
              "      <th>rad</th>\n",
              "      <th>tax</th>\n",
              "      <th>ptratio</th>\n",
              "      <th>b</th>\n",
              "      <th>lstat</th>\n",
              "      <th>target</th>\n",
              "    </tr>\n",
              "  </thead>\n",
              "  <tbody>\n",
              "    <tr>\n",
              "      <th>0</th>\n",
              "      <td>0.00632</td>\n",
              "      <td>18.0</td>\n",
              "      <td>2.31</td>\n",
              "      <td>0.0</td>\n",
              "      <td>0.538</td>\n",
              "      <td>6.575</td>\n",
              "      <td>65.2</td>\n",
              "      <td>4.0900</td>\n",
              "      <td>1.0</td>\n",
              "      <td>296.0</td>\n",
              "      <td>15.3</td>\n",
              "      <td>396.90</td>\n",
              "      <td>4.98</td>\n",
              "      <td>24.0</td>\n",
              "    </tr>\n",
              "    <tr>\n",
              "      <th>1</th>\n",
              "      <td>0.02731</td>\n",
              "      <td>0.0</td>\n",
              "      <td>7.07</td>\n",
              "      <td>0.0</td>\n",
              "      <td>0.469</td>\n",
              "      <td>6.421</td>\n",
              "      <td>78.9</td>\n",
              "      <td>4.9671</td>\n",
              "      <td>2.0</td>\n",
              "      <td>242.0</td>\n",
              "      <td>17.8</td>\n",
              "      <td>396.90</td>\n",
              "      <td>9.14</td>\n",
              "      <td>21.6</td>\n",
              "    </tr>\n",
              "    <tr>\n",
              "      <th>2</th>\n",
              "      <td>0.02729</td>\n",
              "      <td>0.0</td>\n",
              "      <td>7.07</td>\n",
              "      <td>0.0</td>\n",
              "      <td>0.469</td>\n",
              "      <td>7.185</td>\n",
              "      <td>61.1</td>\n",
              "      <td>4.9671</td>\n",
              "      <td>2.0</td>\n",
              "      <td>242.0</td>\n",
              "      <td>17.8</td>\n",
              "      <td>392.83</td>\n",
              "      <td>4.03</td>\n",
              "      <td>34.7</td>\n",
              "    </tr>\n",
              "    <tr>\n",
              "      <th>3</th>\n",
              "      <td>0.03237</td>\n",
              "      <td>0.0</td>\n",
              "      <td>2.18</td>\n",
              "      <td>0.0</td>\n",
              "      <td>0.458</td>\n",
              "      <td>6.998</td>\n",
              "      <td>45.8</td>\n",
              "      <td>6.0622</td>\n",
              "      <td>3.0</td>\n",
              "      <td>222.0</td>\n",
              "      <td>18.7</td>\n",
              "      <td>394.63</td>\n",
              "      <td>2.94</td>\n",
              "      <td>33.4</td>\n",
              "    </tr>\n",
              "    <tr>\n",
              "      <th>4</th>\n",
              "      <td>0.06905</td>\n",
              "      <td>0.0</td>\n",
              "      <td>2.18</td>\n",
              "      <td>0.0</td>\n",
              "      <td>0.458</td>\n",
              "      <td>7.147</td>\n",
              "      <td>54.2</td>\n",
              "      <td>6.0622</td>\n",
              "      <td>3.0</td>\n",
              "      <td>222.0</td>\n",
              "      <td>18.7</td>\n",
              "      <td>396.90</td>\n",
              "      <td>5.33</td>\n",
              "      <td>36.2</td>\n",
              "    </tr>\n",
              "  </tbody>\n",
              "</table>\n",
              "</div>"
            ],
            "text/plain": [
              "      crim    zn  indus  chas    nox     rm   age     dis  rad    tax  \\\n",
              "0  0.00632  18.0   2.31   0.0  0.538  6.575  65.2  4.0900  1.0  296.0   \n",
              "1  0.02731   0.0   7.07   0.0  0.469  6.421  78.9  4.9671  2.0  242.0   \n",
              "2  0.02729   0.0   7.07   0.0  0.469  7.185  61.1  4.9671  2.0  242.0   \n",
              "3  0.03237   0.0   2.18   0.0  0.458  6.998  45.8  6.0622  3.0  222.0   \n",
              "4  0.06905   0.0   2.18   0.0  0.458  7.147  54.2  6.0622  3.0  222.0   \n",
              "\n",
              "   ptratio       b  lstat  target  \n",
              "0     15.3  396.90   4.98    24.0  \n",
              "1     17.8  396.90   9.14    21.6  \n",
              "2     17.8  392.83   4.03    34.7  \n",
              "3     18.7  394.63   2.94    33.4  \n",
              "4     18.7  396.90   5.33    36.2  "
            ]
          },
          "metadata": {
            "tags": []
          },
          "execution_count": 28
        }
      ]
    },
    {
      "cell_type": "code",
      "metadata": {
        "id": "6Qk5DWUpiB3C",
        "colab_type": "code",
        "outputId": "21a27328-fc3e-4531-ce5a-c5c1f95da2d7",
        "colab": {
          "base_uri": "https://localhost:8080/",
          "height": 110
        }
      },
      "source": [
        "# Get the data as numpy arrays\n",
        "# Glossary of shapes: D = size of dataset, B = batch size, M = num_features\n",
        "\n",
        "targets = data.target.as_matrix()  # [D]\n",
        "\n",
        "features = data.drop('target', axis=1).as_matrix()  # [D, M]"
      ],
      "execution_count": 0,
      "outputs": [
        {
          "output_type": "stream",
          "text": [
            "/usr/local/lib/python3.6/dist-packages/ipykernel_launcher.py:2: FutureWarning: Method .as_matrix will be removed in a future version. Use .values instead.\n",
            "  \n",
            "/usr/local/lib/python3.6/dist-packages/ipykernel_launcher.py:4: FutureWarning: Method .as_matrix will be removed in a future version. Use .values instead.\n",
            "  after removing the cwd from sys.path.\n"
          ],
          "name": "stderr"
        }
      ]
    },
    {
      "cell_type": "code",
      "metadata": {
        "id": "LAaffXzmx-17",
        "colab_type": "code",
        "colab": {}
      },
      "source": [
        "BATCH_SIZE = 32\n",
        "TRAINING_STEPS = 100\n",
        "LEARNING_RATE = 1e-3\n",
        "HIDDEN_SIZES = [50, 50]"
      ],
      "execution_count": 0,
      "outputs": []
    },
    {
      "cell_type": "code",
      "metadata": {
        "id": "6-KqGlzVjJgI",
        "colab_type": "code",
        "colab": {}
      },
      "source": [
        "\n",
        "tf.reset_default_graph()\n",
        "\n",
        "# Make the input placeholders\n",
        "inputs = tf.placeholder(shape=(None, *features.shape[1:]), dtype=features.dtype)\n",
        "outputs = tf.placeholder(shape=(None,), dtype=targets.dtype)  # [B]\n",
        "\n",
        "# Make a MLP\n",
        "model = snt.nets.MLP(HIDDEN_SIZES + [1])\n",
        "\n",
        "# Forward pass\n",
        "prediction = model(inputs)  # [B, 1]\n",
        "\n",
        "# MSE loss\n",
        "loss = tf.square(prediction - outputs) + tf.reduce_sum(tf.square(model.variables)) # [B, 1]\n",
        "\n",
        "# Make an optimiezr & sgd op \n",
        "optimizer = tf.train.AdamOptimizer(learning_rate=LEARNING_RATE)\n",
        "sgd_op = optimizer.minimize(loss)\n",
        "\n",
        "# Use fancy pants way to run sgd each time you ask for the loss\n",
        "with tf.control_dependencies([sgd_op]):\n",
        "    loss = tf.reduce_mean(loss)  # []\n",
        "    \n",
        "# Make sess boyz\n",
        "sess = tf.Session()\n",
        "sess.run(tf.global_variables_initializer())\n",
        "\n",
        "# Now make a 'python callable' that uses the session to do things.\n",
        "train = sess.make_callable({'loss': loss}, feed_list=[inputs, outputs])\n",
        "\n",
        "# Training loop\n",
        "results = []\n",
        "for step in range(TRAINING_STEPS):\n",
        "    # Make a minibatch\n",
        "    batch_idxs = np.random.randint(low=0, high=len(targets), size=BATCH_SIZE)\n",
        "    minibatch = features[batch_idxs], targets[batch_idxs]\n",
        "    # Do SGD and get loss out\n",
        "    result = train(*minibatch)\n",
        "    result.update({'step': step, 'my_noise': np.random.rand()})\n",
        "    results.append(result)\n",
        "\n",
        "# Sik1\n",
        "results = pd.DataFrame(results)"
      ],
      "execution_count": 0,
      "outputs": []
    },
    {
      "cell_type": "code",
      "metadata": {
        "id": "zXwtv3Cbxety",
        "colab_type": "code",
        "colab": {}
      },
      "source": [
        "xs = results.step.values\n",
        "ys = results.loss.values\n",
        "\n",
        "plt.plot(xs, ys)\n",
        "plt.xlabel('Training Steps')\n",
        "plt.ylabel('Minibatch Loss')\n",
        "\n",
        "plt.title('Training Loss')"
      ],
      "execution_count": 0,
      "outputs": []
    },
    {
      "cell_type": "code",
      "metadata": {
        "id": "e85yM9UutnRe",
        "colab_type": "code",
        "colab": {}
      },
      "source": [
        "# `optimizer.minimize(loss)` does two things:\n",
        "grads_and_vars = optimizer.compute_gradients(loss, model.variables)\n",
        "optimizer.apply_gradients(grads_and_vars)"
      ],
      "execution_count": 0,
      "outputs": []
    },
    {
      "cell_type": "markdown",
      "metadata": {
        "id": "n_KSoMlhcOHG",
        "colab_type": "text"
      },
      "source": [
        "## Regression without regularization\n",
        "\n",
        "Implement the sum of squares error function to find the maximum likelihood solution $w_{ML}$ for the regression problem. Implement subroutines for polynomial basis function of degree 2. See [expansion based on binomial formula](http://en.wikipedia.org/wiki/Polynomial_kernel)."
      ]
    },
    {
      "cell_type": "code",
      "metadata": {
        "id": "DCpRMA9NcOHH",
        "colab_type": "code",
        "colab": {}
      },
      "source": [
        "# replace this with your solution"
      ],
      "execution_count": 0,
      "outputs": []
    },
    {
      "cell_type": "markdown",
      "metadata": {
        "id": "_IiuaAyEcOHK",
        "colab_type": "text"
      },
      "source": [
        "## Training and testing\n",
        "\n",
        "Use half of the available data for training the model using maximum likelihood. The rest of the data is allocated to the test set. Report the root mean squared error (RMSE) for the training set and the test set."
      ]
    },
    {
      "cell_type": "code",
      "metadata": {
        "id": "ik-r8lgqcOHL",
        "colab_type": "code",
        "colab": {}
      },
      "source": [
        "# replace this with your solution"
      ],
      "execution_count": 0,
      "outputs": []
    },
    {
      "cell_type": "markdown",
      "metadata": {
        "id": "BIp0GEGUcOHN",
        "colab_type": "text"
      },
      "source": [
        "Using the standard basis function (no transformations), find the feature with the biggest weight. Plot two figures, one for the training set and one for the test set. In each figure, plot the label against the this most important feature. Also include a line showing your maximum likelihood predictor (*Hint: use* ```np.arange``` *to generate data*)."
      ]
    },
    {
      "cell_type": "code",
      "metadata": {
        "id": "VSvb19ggcOHO",
        "colab_type": "code",
        "colab": {}
      },
      "source": [
        "# replace this with your solution"
      ],
      "execution_count": 0,
      "outputs": []
    },
    {
      "cell_type": "markdown",
      "metadata": {
        "id": "ZPxS-vGbcOHQ",
        "colab_type": "text"
      },
      "source": [
        "## Regression with regularization\n",
        "\n",
        "Implement the regularized least squares regression to find the maximum likelihood solution $w_{reg}$ with regularizer $\\lambda>0$. (Warning: the keyword ```lambda``` is a reserved word in Python)."
      ]
    },
    {
      "cell_type": "code",
      "metadata": {
        "id": "-lWAKVfwcOHR",
        "colab_type": "code",
        "colab": {}
      },
      "source": [
        "# replace this with your solution"
      ],
      "execution_count": 0,
      "outputs": []
    },
    {
      "cell_type": "markdown",
      "metadata": {
        "id": "uEFpWk5VcOHT",
        "colab_type": "text"
      },
      "source": [
        "Similar to the previous exercise, plot two figures showing the most important feature along with the label and prediction. Use $\\lambda = 1.1$."
      ]
    },
    {
      "cell_type": "code",
      "metadata": {
        "id": "jV_JRJZJcOHT",
        "colab_type": "code",
        "colab": {}
      },
      "source": [
        "# replace this with your solution"
      ],
      "execution_count": 0,
      "outputs": []
    },
    {
      "cell_type": "markdown",
      "metadata": {
        "id": "eOGrDuuxcOHV",
        "colab_type": "text"
      },
      "source": [
        "## Analysis of results\n",
        "\n",
        "Compare the RSME of regression with and without regularization. By also considering the plots, describe what you observe and explain your observations."
      ]
    },
    {
      "cell_type": "markdown",
      "metadata": {
        "id": "jpkibvIwcOHW",
        "colab_type": "text"
      },
      "source": [
        "### <span style=\"color:blue\">Answer</span>\n",
        "<i>--- replace this with your solution ---</i>"
      ]
    },
    {
      "cell_type": "markdown",
      "metadata": {
        "id": "iNh3PwPtcOHW",
        "colab_type": "text"
      },
      "source": [
        "## (optional) Exploration of basis functions and regularization parameter\n",
        "\n",
        "The choice of basis function as well as the value of the regularization parameter $\\lambda$ affects the performance of the predictor. Using the same training and test data as before, compute the different RMSE for:\n",
        "* The standard basis (as done above)\n",
        "* polynomial basis function of degree 2.\n",
        "* $\\lambda$ = [0.01, 0.1, 1, 10, 100]"
      ]
    },
    {
      "cell_type": "code",
      "metadata": {
        "id": "rFKHHcrCcOHX",
        "colab_type": "code",
        "colab": {}
      },
      "source": [
        "# replace this with your solution"
      ],
      "execution_count": 0,
      "outputs": []
    },
    {
      "cell_type": "code",
      "metadata": {
        "id": "SH5NWDzccOHZ",
        "colab_type": "code",
        "colab": {}
      },
      "source": [
        ""
      ],
      "execution_count": 0,
      "outputs": []
    },
    {
      "cell_type": "code",
      "metadata": {
        "id": "30Fswr50cOHa",
        "colab_type": "code",
        "colab": {}
      },
      "source": [
        ""
      ],
      "execution_count": 0,
      "outputs": []
    }
  ]
}