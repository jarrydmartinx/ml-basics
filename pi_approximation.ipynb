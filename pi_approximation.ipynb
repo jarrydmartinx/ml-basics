{
  "nbformat": 4,
  "nbformat_minor": 0,
  "metadata": {
    "colab": {
      "name": "pi-approximation.ipynb",
      "provenance": [],
      "collapsed_sections": [],
      "include_colab_link": true
    },
    "kernelspec": {
      "name": "python3",
      "display_name": "Python 3"
    }
  },
  "cells": [
    {
      "cell_type": "markdown",
      "metadata": {
        "id": "view-in-github",
        "colab_type": "text"
      },
      "source": [
        "<a href=\"https://colab.research.google.com/github/jarrydmartinx/ml-basics/blob/master/pi_approximation.ipynb\" target=\"_parent\"><img src=\"https://colab.research.google.com/assets/colab-badge.svg\" alt=\"Open In Colab\"/></a>"
      ]
    },
    {
      "cell_type": "code",
      "metadata": {
        "id": "cUrTHcslfbW4",
        "colab_type": "code",
        "colab": {}
      },
      "source": [
        "import numpy as np\n",
        "import pandas as pd\n",
        "import time\n",
        "import plotnine as gg"
      ],
      "execution_count": 0,
      "outputs": []
    },
    {
      "cell_type": "code",
      "metadata": {
        "id": "FvjCaJGheGCN",
        "colab_type": "code",
        "outputId": "5ba92673-56e3-41d5-a420-481942b37a39",
        "colab": {
          "base_uri": "https://localhost:8080/",
          "height": 34
        }
      },
      "source": [
        "def pi_mc(num_samples: int) -> float:\n",
        "  u = np.random.uniform(size=(num_samples, 2))\n",
        "\n",
        "  lens_sq = np.sum(u ** 2, axis=1)\n",
        "\n",
        "  num_insides = np.sum(lens_sq <= 1.)\n",
        "\n",
        "  return 4 * (num_insides / num_samples)\n",
        "\n",
        "pi_mc(int(1e7))\n"
      ],
      "execution_count": 0,
      "outputs": [
        {
          "output_type": "execute_result",
          "data": {
            "text/plain": [
              "3.141234"
            ]
          },
          "metadata": {
            "tags": []
          },
          "execution_count": 4
        }
      ]
    },
    {
      "cell_type": "code",
      "metadata": {
        "id": "QesLCQY-fY_a",
        "colab_type": "code",
        "outputId": "9753c29a-e824-4229-f9ee-e3abc6f0e836",
        "colab": {
          "base_uri": "https://localhost:8080/",
          "height": 34
        }
      },
      "source": [
        "def pi_riemann(num_intervals: int) -> float:\n",
        "  width = 1 / num_intervals\n",
        "  xs = np.linspace(0, 1, num=num_intervals, endpoint=False)\n",
        "  ys = np.sqrt(1 - xs ** 2)\n",
        "\n",
        "  return 4 * width * np.sum(ys)\n",
        "\n",
        "pi_riemann(int(1e7))"
      ],
      "execution_count": 0,
      "outputs": [
        {
          "output_type": "execute_result",
          "data": {
            "text/plain": [
              "3.1415928535526025"
            ]
          },
          "metadata": {
            "tags": []
          },
          "execution_count": 5
        }
      ]
    },
    {
      "cell_type": "code",
      "metadata": {
        "id": "-qyaY3-UgwXN",
        "colab_type": "code",
        "outputId": "f261d5ec-3e7c-45a1-bb8d-429214bf3232",
        "colab": {
          "base_uri": "https://localhost:8080/",
          "height": 34
        }
      },
      "source": [
        "def pi_series(num_terms: int) -> float:\n",
        "  signs = np.ones(num_terms)\n",
        "  signs[1::2] = -1\n",
        "\n",
        "  denoms = np.arange(1, num_terms * 2, 2)\n",
        "\n",
        "  assert len(signs) == len(denoms)\n",
        "\n",
        "  return 4 * np.sum(signs / denoms)\n",
        "\n",
        "pi_series(int(1e7))"
      ],
      "execution_count": 0,
      "outputs": [
        {
          "output_type": "execute_result",
          "data": {
            "text/plain": [
              "3.1415925535897977"
            ]
          },
          "metadata": {
            "tags": []
          },
          "execution_count": 6
        }
      ]
    },
    {
      "cell_type": "code",
      "metadata": {
        "id": "kVeuf3l0hGr_",
        "colab_type": "code",
        "outputId": "a2fa6115-3933-4d3d-ac85-6385744e905e",
        "colab": {
          "base_uri": "https://localhost:8080/",
          "height": 206
        }
      },
      "source": [
        "NUM_TRIALS = 10\n",
        "\n",
        "algs = {\n",
        "    'monte_carlo': pi_mc,\n",
        "    'riemann': pi_riemann,\n",
        "    'gl_series': pi_series,\n",
        "}\n",
        "\n",
        "ns = np.logspace(1, 5, num=20, dtype=np.int32)\n",
        "results = []\n",
        "\n",
        "for alg_name in algs:\n",
        "  for n in ns:\n",
        "    for i in range(NUM_TRIALS):\n",
        "      t = time.time()\n",
        "      estimate = algs[alg_name](n)\n",
        "      runtime = time.time() - t\n",
        "\n",
        "      results.append({\n",
        "          'alg': alg_name,\n",
        "          'n': n,\n",
        "          'runtime': runtime,\n",
        "          'error': np.abs(estimate - np.pi)\n",
        "      })\n",
        "\n",
        "df = pd.DataFrame(results)\n",
        "\n",
        "df = df.groupby(['alg', 'n'], as_index=False).agg({'error': np.mean,\n",
        "                                                   'runtime': np.mean})\n",
        "df.head()"
      ],
      "execution_count": 0,
      "outputs": [
        {
          "output_type": "execute_result",
          "data": {
            "text/html": [
              "<div>\n",
              "<style scoped>\n",
              "    .dataframe tbody tr th:only-of-type {\n",
              "        vertical-align: middle;\n",
              "    }\n",
              "\n",
              "    .dataframe tbody tr th {\n",
              "        vertical-align: top;\n",
              "    }\n",
              "\n",
              "    .dataframe thead th {\n",
              "        text-align: right;\n",
              "    }\n",
              "</style>\n",
              "<table border=\"1\" class=\"dataframe\">\n",
              "  <thead>\n",
              "    <tr style=\"text-align: right;\">\n",
              "      <th></th>\n",
              "      <th>alg</th>\n",
              "      <th>n</th>\n",
              "      <th>error</th>\n",
              "      <th>runtime</th>\n",
              "    </tr>\n",
              "  </thead>\n",
              "  <tbody>\n",
              "    <tr>\n",
              "      <th>0</th>\n",
              "      <td>gl_series</td>\n",
              "      <td>10</td>\n",
              "      <td>0.099753</td>\n",
              "      <td>0.000024</td>\n",
              "    </tr>\n",
              "    <tr>\n",
              "      <th>1</th>\n",
              "      <td>gl_series</td>\n",
              "      <td>16</td>\n",
              "      <td>0.062439</td>\n",
              "      <td>0.000020</td>\n",
              "    </tr>\n",
              "    <tr>\n",
              "      <th>2</th>\n",
              "      <td>gl_series</td>\n",
              "      <td>26</td>\n",
              "      <td>0.038447</td>\n",
              "      <td>0.000018</td>\n",
              "    </tr>\n",
              "    <tr>\n",
              "      <th>3</th>\n",
              "      <td>gl_series</td>\n",
              "      <td>42</td>\n",
              "      <td>0.023806</td>\n",
              "      <td>0.000017</td>\n",
              "    </tr>\n",
              "    <tr>\n",
              "      <th>4</th>\n",
              "      <td>gl_series</td>\n",
              "      <td>69</td>\n",
              "      <td>0.014492</td>\n",
              "      <td>0.000018</td>\n",
              "    </tr>\n",
              "  </tbody>\n",
              "</table>\n",
              "</div>"
            ],
            "text/plain": [
              "         alg   n     error   runtime\n",
              "0  gl_series  10  0.099753  0.000024\n",
              "1  gl_series  16  0.062439  0.000020\n",
              "2  gl_series  26  0.038447  0.000018\n",
              "3  gl_series  42  0.023806  0.000017\n",
              "4  gl_series  69  0.014492  0.000018"
            ]
          },
          "metadata": {
            "tags": []
          },
          "execution_count": 11
        }
      ]
    },
    {
      "cell_type": "code",
      "metadata": {
        "id": "9g-BWxjcjsWV",
        "colab_type": "code",
        "outputId": "b85f0f5f-591a-4df3-9952-8acbe2be33b6",
        "colab": {
          "base_uri": "https://localhost:8080/",
          "height": 615
        }
      },
      "source": [
        "plot = (gg.ggplot(df)\n",
        "        + gg.aes(x='n', y='runtime', color='alg')\n",
        "        + gg.ggtitle('Input size vs. Error')\n",
        "        + gg.geom_line()\n",
        "        + gg.scale_x_log10()\n",
        "        # + gg.scale_y_log10()\n",
        ")\n",
        "plot"
      ],
      "execution_count": 0,
      "outputs": [
        {
          "output_type": "stream",
          "text": [
            "/usr/local/lib/python3.6/dist-packages/plotnine/scales/scale.py:93: MatplotlibDeprecationWarning: \n",
            "The iterable function was deprecated in Matplotlib 3.1 and will be removed in 3.3. Use np.iterable instead.\n",
            "  if cbook.iterable(self.breaks) and cbook.iterable(self.labels):\n",
            "/usr/local/lib/python3.6/dist-packages/plotnine/utils.py:553: MatplotlibDeprecationWarning: \n",
            "The iterable function was deprecated in Matplotlib 3.1 and will be removed in 3.3. Use np.iterable instead.\n",
            "  return cbook.iterable(var) and not is_string(var)\n"
          ],
          "name": "stderr"
        },
        {
          "output_type": "display_data",
          "data": {
            "image/png": "[encoded data removed]",
            "text/plain": [
              "<Figure size 640x480 with 1 Axes>"
            ]
          },
          "metadata": {
            "tags": []
          }
        },
        {
          "output_type": "execute_result",
          "data": {
            "text/plain": [
              "<ggplot: (-9223363294666028228)>"
            ]
          },
          "metadata": {
            "tags": []
          },
          "execution_count": 13
        }
      ]
    },
    {
      "cell_type": "code",
      "metadata": {
        "id": "ldEoob6CjuSo",
        "colab_type": "code",
        "colab": {}
      },
      "source": [
        ""
      ],
      "execution_count": 0,
      "outputs": []
    }
  ]
}