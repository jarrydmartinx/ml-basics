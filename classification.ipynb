{
  "nbformat": 4,
  "nbformat_minor": 0,
  "metadata": {
    "kernelspec": {
      "display_name": "Python [default]",
      "language": "python",
      "name": "python3"
    },
    "language_info": {
      "codemirror_mode": {
        "name": "ipython",
        "version": 3
      },
      "file_extension": ".py",
      "mimetype": "text/x-python",
      "name": "python",
      "nbconvert_exporter": "python",
      "pygments_lexer": "ipython3",
      "version": "3.5.4"
    },
    "colab": {
      "name": "04-classification-work.ipynb",
      "provenance": [],
      "include_colab_link": true
    }
  },
  "cells": [
    {
      "cell_type": "markdown",
      "metadata": {
        "id": "view-in-github",
        "colab_type": "text"
      },
      "source": [
        "<a href=\"https://colab.research.google.com/github/jarrydmartinx/ml-basics/blob/master/classification.ipynb\" target=\"_parent\"><img src=\"https://colab.research.google.com/assets/colab-badge.svg\" alt=\"Open In Colab\"/></a>"
      ]
    },
    {
      "cell_type": "markdown",
      "metadata": {
        "id": "Ue6uwtQ_FqLq",
        "colab_type": "text"
      },
      "source": [
        "# Classification"
      ]
    },
    {
      "cell_type": "markdown",
      "metadata": {
        "id": "4wVeWnmZFqLv",
        "colab_type": "text"
      },
      "source": [
        "###### COMP4670/8600 - Introduction to Statistical Machine Learning - Tutorial 4"
      ]
    },
    {
      "cell_type": "markdown",
      "metadata": {
        "id": "D7SzXIMYFqLz",
        "colab_type": "text"
      },
      "source": [
        "$\\newcommand{\\trace}[1]{\\operatorname{tr}\\left\\{#1\\right\\}}$\n",
        "$\\newcommand{\\Norm}[1]{\\lVert#1\\rVert}$\n",
        "$\\newcommand{\\RR}{\\mathbb{R}}$\n",
        "$\\newcommand{\\inner}[2]{\\langle #1, #2 \\rangle}$\n",
        "$\\newcommand{\\DD}{\\mathscr{D}}$\n",
        "$\\newcommand{\\grad}[1]{\\operatorname{grad}#1}$\n",
        "$\\DeclareMathOperator*{\\argmin}{arg\\,min}$\n",
        "\n",
        "Setting up the environment"
      ]
    },
    {
      "cell_type": "code",
      "metadata": {
        "id": "5Xp8dIy1FqL2",
        "colab_type": "code",
        "colab": {}
      },
      "source": [
        "import matplotlib.pyplot as plt\n",
        "import numpy as np\n",
        "import scipy.optimize as opt\n",
        "\n",
        "%matplotlib inline"
      ],
      "execution_count": 0,
      "outputs": []
    },
    {
      "cell_type": "markdown",
      "metadata": {
        "id": "KOiU32lbFqMD",
        "colab_type": "text"
      },
      "source": [
        "## The data set\n",
        "\n",
        "We will predict the incidence of diabetes based on various measurements (see [description](https://archive.ics.uci.edu/ml/datasets/Pima+Indians+Diabetes)). Instead of directly using the raw data, we use a normalised version, where the label to be predicted (the incidence of diabetes) is in the first column. Download the data from [the course website](https://machlearn.gitlab.io/isml2017/tutorial/diabetes_scale.csv).\n",
        "\n",
        "Read in the data using ```np.loadtxt```."
      ]
    },
    {
      "cell_type": "code",
      "metadata": {
        "id": "UWcFeEjOFqMG",
        "colab_type": "code",
        "colab": {}
      },
      "source": [
        "# replace this with your solution"
      ],
      "execution_count": 0,
      "outputs": []
    },
    {
      "cell_type": "markdown",
      "metadata": {
        "id": "oUBOMHTTFqMO",
        "colab_type": "text"
      },
      "source": [
        "## Classification via Logistic Regression\n",
        "\n",
        "Implement binary classification using logistic regression for a data set with two classes. Make sure you use appropriate [python style](https://www.python.org/dev/peps/pep-0008/) and [docstrings](https://www.python.org/dev/peps/pep-0257/).\n",
        "\n",
        "Use ```scipy.optimize.fmin_bfgs``` to optimise your cost function. ```fmin_bfgs``` requires the cost function to be optimised, and the gradient of this cost function. Implement these two functions as ```cost``` and ```grad``` by following the equations in the lectures.\n",
        "\n",
        "Implement the function ```train``` that takes a matrix of examples, and a vector of labels, and returns the maximum likelihood weight vector for logistic regresssion. Also implement a function ```test``` that takes this maximum likelihood weight vector and the a matrix of examples, and returns the predictions. See the section **Putting everything together** below for expected usage.\n",
        "\n",
        "We add an extra column of ones to represent the constant basis."
      ]
    },
    {
      "cell_type": "code",
      "metadata": {
        "id": "-1R4x0n7FqMR",
        "colab_type": "code",
        "colab": {}
      },
      "source": [
        "data = np.hstack([data, np.ones((data.shape[0], 1))]) # add a column of ones\n",
        "data[:5,:]"
      ],
      "execution_count": 0,
      "outputs": []
    },
    {
      "cell_type": "code",
      "metadata": {
        "id": "j7rvt_T-FqMY",
        "colab_type": "code",
        "colab": {}
      },
      "source": [
        "# replace this with your solution"
      ],
      "execution_count": 0,
      "outputs": []
    },
    {
      "cell_type": "markdown",
      "metadata": {
        "id": "SK7hq35UFqMf",
        "colab_type": "text"
      },
      "source": [
        "## Performance measure\n",
        "\n",
        "There are many ways to compute the [performance of a binary classifier](http://en.wikipedia.org/wiki/Evaluation_of_binary_classifiers). The key concept is the idea of a confusion matrix or contingency table:\n",
        "\n",
        "|              |    | Label |    |\n",
        "|:-------------|:--:|:-----:|:--:|\n",
        "|              |    |  +1   | -1 |\n",
        "|**Prediction**| +1 |    TP | FP |\n",
        "|              | -1 |    FN | TN |\n",
        "\n",
        "where\n",
        "* TP - true positive\n",
        "* FP - false positive\n",
        "* FN - false negative\n",
        "* TN - true negative\n",
        "\n",
        "Implement three functions, the first one which returns the confusion matrix for comparing two lists (one set of predictions, and one set of labels). Then implement two functions that take the confusion matrix as input and returns the **accuracy** and **balanced accuracy** respectively. Accuracy is defined as the number of correct classifications divided by the total number of examples. The balanced accuracy is the average accuracy of each class, that is the accuracy when the true class is positive and the accuracy when the true class is negative (averaged).\n"
      ]
    },
    {
      "cell_type": "code",
      "metadata": {
        "id": "tG41YPY5FqMi",
        "colab_type": "code",
        "colab": {}
      },
      "source": [
        "# replace this with your solution"
      ],
      "execution_count": 0,
      "outputs": []
    },
    {
      "cell_type": "markdown",
      "metadata": {
        "id": "sICrfVb-FqMn",
        "colab_type": "text"
      },
      "source": [
        "## Putting everything together\n",
        "\n",
        "Consider the following code, which trains on all the examples, and predicts on the training set. Discuss the results."
      ]
    },
    {
      "cell_type": "code",
      "metadata": {
        "id": "IKdXRPS_FqMq",
        "colab_type": "code",
        "colab": {}
      },
      "source": [
        "y = data[:,0]\n",
        "X = data[:,1:]\n",
        "theta_best = train(X, y)\n",
        "pred = predict(theta_best, X)\n",
        "cmatrix = confusion_matrix(pred, y)\n",
        "[accuracy(cmatrix), balanced_accuracy(cmatrix)]"
      ],
      "execution_count": 0,
      "outputs": []
    },
    {
      "cell_type": "markdown",
      "metadata": {
        "id": "zBu1ZbFGFqMx",
        "colab_type": "text"
      },
      "source": [
        "### <span style=\"color:blue\">Answer</span>\n",
        "<i>--- replace this with your solution ---</i>"
      ]
    },
    {
      "cell_type": "markdown",
      "metadata": {
        "id": "zNjv2my0FqMx",
        "colab_type": "text"
      },
      "source": [
        "## (optional) Effect of regularization parameter\n",
        "\n",
        "By splitting the data into two halves, train on one half and report performance on the second half. By repeating this experiment for different values of the regularization parameter $\\lambda$ we can get a feeling about the variability in the performance of the classifier due to regularization. Plot the values of accuracy and balanced accuracy for at least 3 different choices of $\\lambda$. Note that you may have to update your implementation of logistic regression to include the regularisation parameter.\n"
      ]
    },
    {
      "cell_type": "code",
      "metadata": {
        "id": "u3F2C51GFqM0",
        "colab_type": "code",
        "colab": {}
      },
      "source": [
        "# replace this with your solution"
      ],
      "execution_count": 0,
      "outputs": []
    },
    {
      "cell_type": "markdown",
      "metadata": {
        "id": "blwbu6MrFqM6",
        "colab_type": "text"
      },
      "source": [
        "### <span style=\"color:blue\">Answer</span>\n",
        "<i>--- replace this with your solution ---</i>"
      ]
    }
  ]
}